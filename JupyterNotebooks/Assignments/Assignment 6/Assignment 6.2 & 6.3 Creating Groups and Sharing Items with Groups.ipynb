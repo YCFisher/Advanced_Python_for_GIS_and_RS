{
 "cells": [
  {
   "cell_type": "code",
   "execution_count": 1,
   "metadata": {},
   "outputs": [],
   "source": [
    "from arcgis.gis import GIS"
   ]
  },
  {
   "cell_type": "code",
   "execution_count": 2,
   "metadata": {},
   "outputs": [
    {
     "name": "stdout",
     "output_type": "stream",
     "text": [
      "Enter password: ········\n"
     ]
    }
   ],
   "source": [
    "gis = GIS(\"https://slustl.maps.arcgis.com/home\", \"cuaycongy_SLUSTL\")"
   ]
  },
  {
   "cell_type": "code",
   "execution_count": 5,
   "metadata": {},
   "outputs": [
    {
     "data": {
      "text/html": [
       "<div class=\"9item_container\" style=\"height: auto; overflow: hidden; border: 1px solid #cfcfcf; border-radius: 2px; background: #f6fafa; line-height: 1.21429em; padding: 10px;\">\n",
       "                    <div class=\"item_left\" style=\"width: 210px; float: left;\">\n",
       "                       <a href='https://SLUSTL.maps.arcgis.com/home/group.html?id=73ecb93df79a4f6e980650c5bc313a2e' target='_blank'>\n",
       "                        <img src='https://SLUSTL.maps.arcgis.com/home/images/group-no-image.png' class=\"itemThumbnail\">\n",
       "                       </a>\n",
       "                    </div>\n",
       "\n",
       "                    <div class=\"item_right\" style=\"float: none; width: auto; overflow: hidden;\">\n",
       "                        <a href='https://SLUSTL.maps.arcgis.com/home/group.html?id=73ecb93df79a4f6e980650c5bc313a2e' target='_blank'><b>Yvonne_Webmaps</b>\n",
       "                        </a>\n",
       "                        <br/>\n",
       "                        <br/><b>Summary</b>: Webmaps\n",
       "                        <br/><b>Description</b>: Assignment 6 Webmap Group\n",
       "                        <br/><b>Owner</b>: cuaycongy_SLUSTL\n",
       "                        <br/><b>Created</b>: October 14, 2018\n",
       "\n",
       "                    </div>\n",
       "                </div>\n",
       "                "
      ],
      "text/plain": [
       "<Group title:\"Yvonne_Webmaps\" owner:cuaycongy_SLUSTL>"
      ]
     },
     "execution_count": 5,
     "metadata": {},
     "output_type": "execute_result"
    }
   ],
   "source": [
    "Webmaps_Group = gis.groups.create(title='Yvonne_Webmaps',\n",
    "                            tags = 'create new group, webmaps',\n",
    "                            description = 'Assignment 6 Webmap Group',\n",
    "                            snippet = 'Webmaps',\n",
    "                            access = 'org',\n",
    "                            is_invitation_only = 'True')\n",
    "Webmaps_Group"
   ]
  },
  {
   "cell_type": "code",
   "execution_count": 6,
   "metadata": {},
   "outputs": [
    {
     "data": {
      "text/html": [
       "<div class=\"9item_container\" style=\"height: auto; overflow: hidden; border: 1px solid #cfcfcf; border-radius: 2px; background: #f6fafa; line-height: 1.21429em; padding: 10px;\">\n",
       "                    <div class=\"item_left\" style=\"width: 210px; float: left;\">\n",
       "                       <a href='https://SLUSTL.maps.arcgis.com/home/group.html?id=a218289245a0458890035974ffd4b865' target='_blank'>\n",
       "                        <img src='https://SLUSTL.maps.arcgis.com/home/images/group-no-image.png' class=\"itemThumbnail\">\n",
       "                       </a>\n",
       "                    </div>\n",
       "\n",
       "                    <div class=\"item_right\" style=\"float: none; width: auto; overflow: hidden;\">\n",
       "                        <a href='https://SLUSTL.maps.arcgis.com/home/group.html?id=a218289245a0458890035974ffd4b865' target='_blank'><b>Yvonne_Feature_Services</b>\n",
       "                        </a>\n",
       "                        <br/>\n",
       "                        <br/><b>Summary</b>: Feature Services\n",
       "                        <br/><b>Description</b>: Assignment 6 Feature Services Group\n",
       "                        <br/><b>Owner</b>: cuaycongy_SLUSTL\n",
       "                        <br/><b>Created</b>: October 14, 2018\n",
       "\n",
       "                    </div>\n",
       "                </div>\n",
       "                "
      ],
      "text/plain": [
       "<Group title:\"Yvonne_Feature_Services\" owner:cuaycongy_SLUSTL>"
      ]
     },
     "execution_count": 6,
     "metadata": {},
     "output_type": "execute_result"
    }
   ],
   "source": [
    "FS_Group = gis.groups.create(title='Yvonne_Feature_Services',\n",
    "                            tags = 'create new group, Feature Services',\n",
    "                            description = 'Assignment 6 Feature Services Group',\n",
    "                            snippet = 'Feature Services',\n",
    "                            access = 'org',\n",
    "                            is_invitation_only = 'True')\n",
    "FS_Group"
   ]
  },
  {
   "cell_type": "code",
   "execution_count": 7,
   "metadata": {},
   "outputs": [
    {
     "data": {
      "text/html": [
       "<div class=\"9item_container\" style=\"height: auto; overflow: hidden; border: 1px solid #cfcfcf; border-radius: 2px; background: #f6fafa; line-height: 1.21429em; padding: 10px;\">\n",
       "                    <div class=\"item_left\" style=\"width: 210px; float: left;\">\n",
       "                       <a href='https://SLUSTL.maps.arcgis.com/home/group.html?id=fab3f103db32455a9b029326c21fe6a2' target='_blank'>\n",
       "                        <img src='https://SLUSTL.maps.arcgis.com/home/images/group-no-image.png' class=\"itemThumbnail\">\n",
       "                       </a>\n",
       "                    </div>\n",
       "\n",
       "                    <div class=\"item_right\" style=\"float: none; width: auto; overflow: hidden;\">\n",
       "                        <a href='https://SLUSTL.maps.arcgis.com/home/group.html?id=fab3f103db32455a9b029326c21fe6a2' target='_blank'><b>Yvonne_All_Content</b>\n",
       "                        </a>\n",
       "                        <br/>\n",
       "                        <br/><b>Summary</b>: All Content\n",
       "                        <br/><b>Description</b>: Assignment 6 All Content Group\n",
       "                        <br/><b>Owner</b>: cuaycongy_SLUSTL\n",
       "                        <br/><b>Created</b>: October 14, 2018\n",
       "\n",
       "                    </div>\n",
       "                </div>\n",
       "                "
      ],
      "text/plain": [
       "<Group title:\"Yvonne_All_Content\" owner:cuaycongy_SLUSTL>"
      ]
     },
     "execution_count": 7,
     "metadata": {},
     "output_type": "execute_result"
    }
   ],
   "source": [
    "AC_Group = gis.groups.create(title='Yvonne_All_Content',\n",
    "                            tags = 'create new group, all content',\n",
    "                            description = 'Assignment 6 All Content Group',\n",
    "                            snippet = 'All Content',\n",
    "                            access = 'org',\n",
    "                            is_invitation_only = 'True')\n",
    "AC_Group"
   ]
  },
  {
   "cell_type": "code",
   "execution_count": 8,
   "metadata": {},
   "outputs": [
    {
     "data": {
      "text/plain": [
       "'org'"
      ]
     },
     "execution_count": 8,
     "metadata": {},
     "output_type": "execute_result"
    }
   ],
   "source": [
    "chennai_rainfall = gis.content.get('df122acaaf974fdd994105e5290c6237')\n",
    "chennai_rainfall.access"
   ]
  },
  {
   "cell_type": "code",
   "execution_count": 9,
   "metadata": {},
   "outputs": [
    {
     "data": {
      "text/plain": [
       "{'notSharedWith': [], 'itemId': 'df122acaaf974fdd994105e5290c6237'}"
      ]
     },
     "execution_count": 9,
     "metadata": {},
     "output_type": "execute_result"
    }
   ],
   "source": [
    "chennai_rainfall.share(groups=FS_Group.id)"
   ]
  },
  {
   "cell_type": "code",
   "execution_count": 11,
   "metadata": {},
   "outputs": [
    {
     "data": {
      "text/plain": [
       "{'notSharedWith': [], 'itemId': 'df122acaaf974fdd994105e5290c6237'}"
      ]
     },
     "execution_count": 11,
     "metadata": {},
     "output_type": "execute_result"
    }
   ],
   "source": [
    "chennai_rainfall.share(groups=AC_Group.id)"
   ]
  },
  {
   "cell_type": "code",
   "execution_count": 12,
   "metadata": {},
   "outputs": [
    {
     "data": {
      "text/plain": [
       "'org'"
      ]
     },
     "execution_count": 12,
     "metadata": {},
     "output_type": "execute_result"
    }
   ],
   "source": [
    "critical_habitats = gis.content.get('d7e62b3c761846bf8d15cc341bb7d2ba')\n",
    "critical_habitats.access"
   ]
  },
  {
   "cell_type": "code",
   "execution_count": 13,
   "metadata": {},
   "outputs": [
    {
     "data": {
      "text/plain": [
       "{'notSharedWith': [], 'itemId': 'd7e62b3c761846bf8d15cc341bb7d2ba'}"
      ]
     },
     "execution_count": 13,
     "metadata": {},
     "output_type": "execute_result"
    }
   ],
   "source": [
    "critical_habitats.share(groups=AC_Group.id)"
   ]
  },
  {
   "cell_type": "code",
   "execution_count": 14,
   "metadata": {},
   "outputs": [
    {
     "data": {
      "text/plain": [
       "{'notSharedWith': [], 'itemId': 'd7e62b3c761846bf8d15cc341bb7d2ba'}"
      ]
     },
     "execution_count": 14,
     "metadata": {},
     "output_type": "execute_result"
    }
   ],
   "source": [
    "critical_habitats.share(groups=Webmaps_Group.id)"
   ]
  },
  {
   "cell_type": "code",
   "execution_count": null,
   "metadata": {},
   "outputs": [],
   "source": []
  }
 ],
 "metadata": {
  "kernelspec": {
   "display_name": "Python 3",
   "language": "python",
   "name": "python3"
  },
  "language_info": {
   "codemirror_mode": {
    "name": "ipython",
    "version": 3
   },
   "file_extension": ".py",
   "mimetype": "text/x-python",
   "name": "python",
   "nbconvert_exporter": "python",
   "pygments_lexer": "ipython3",
   "version": "3.6.5"
  }
 },
 "nbformat": 4,
 "nbformat_minor": 2
}

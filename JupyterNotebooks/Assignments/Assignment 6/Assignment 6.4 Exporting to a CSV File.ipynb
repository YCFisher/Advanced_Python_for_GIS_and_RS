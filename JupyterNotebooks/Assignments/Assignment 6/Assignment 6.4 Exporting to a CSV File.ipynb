{
 "cells": [
  {
   "cell_type": "code",
   "execution_count": 4,
   "metadata": {},
   "outputs": [],
   "source": [
    "from arcgis.gis import GIS\n",
    "from IPython.display import display\n",
    "import pandas as pd\n",
    "import arcpy\n",
    "import csv"
   ]
  },
  {
   "cell_type": "code",
   "execution_count": 5,
   "metadata": {},
   "outputs": [
    {
     "name": "stdout",
     "output_type": "stream",
     "text": [
      "Enter password: ········\n"
     ]
    }
   ],
   "source": [
    "gis = GIS(\"http://slustl.maps.arcgis.com/home\", \"cuaycongy_SLUSTL\")"
   ]
  },
  {
   "cell_type": "code",
   "execution_count": 57,
   "metadata": {},
   "outputs": [],
   "source": [
    "SLU = gis.users.search(\"*\")"
   ]
  },
  {
   "cell_type": "code",
   "execution_count": 6,
   "metadata": {},
   "outputs": [
    {
     "name": "stdout",
     "output_type": "stream",
     "text": [
      "Username: abehera_SLUSTL Email: abehera@slu.edu User Level: 2 User Type: both\n",
      "Username: abrok_SLU Email: adam.brok@slu.edu User Level: 2 User Type: both\n",
      "Username: abudureheman.taiwaikuli_SLUSTL Email: abudureheman.taiwaikuli@slu.edu User Level: 2 User Type: both\n",
      "Username: adrianjc Email: jarrett.adrian@slu.edu User Level: 2 User Type: both\n",
      "Username: ahmadaldalawi_slustl Email: ahmad.aldalawi@slu.edu User Level: 2 User Type: arcgisonly\n",
      "Username: alexandra.johnson_SLUSTL Email: alexandra.johnson@slu.edu User Level: 2 User Type: both\n",
      "Username: areeves8_SLUSTL Email: areeves8@slu.edu User Level: 2 User Type: both\n",
      "Username: armbrees_SLUSTL Email: armbrees@slu.edu User Level: 2 User Type: both\n",
      "Username: awulamu_SLUSTL Email: vasit.sagan@slu.edu User Level: 2 User Type: both\n",
      "Username: baerah Email: adam.baer@slu.edu User Level: 2 User Type: both\n",
      "Username: beitschermr Email: matthew.beitscher@slu.edu User Level: 2 User Type: both\n",
      "Username: blissmc Email: miles.bliss@slu.edu User Level: 2 User Type: both\n",
      "Username: breneman_SLUSTL Email: breneman@slu.edu User Level: 2 User Type: both\n",
      "Username: brinkleykj5 Email: kayla.brinkley@slu.edu User Level: 2 User Type: both\n",
      "Username: bsiracuse Email: brandon.siracuse@slu.edu User Level: 2 User Type: arcgisonly\n",
      "Username: buerckjp Email: buerckjp@slu.edu User Level: 2 User Type: both\n",
      "Username: chris.prener_SLUSTL Email: chris.prener@slu.edu User Level: 2 User Type: both\n",
      "Username: chuanfeng_slustl Email: chuan.feng@slu.edu User Level: 2 User Type: both\n",
      "Username: coffinsl Email: coffinsl@slu.edu User Level: 2 User Type: both\n",
      "Username: corey.grejtakheaps Email: corey.grejtakheaps@slu.edu User Level: 2 User Type: arcgisonly\n",
      "Username: cotag_SLU Email: gizellerebecca.cota@slu.edu User Level: 2 User Type: both\n",
      "Username: crawfordtw_SLUSTL Email: crawfordtw@slu.edu User Level: 2 User Type: both\n",
      "Username: cuaycongy_SLUSTL Email: yvonne.fisher@slu.edu User Level: 2 User Type: arcgisonly\n",
      "Username: david.ridge Email: David.ridge@slu.edu User Level: 2 User Type: arcgisonly\n",
      "Username: delpt_SLU Email: tomi.delp@slu.edu User Level: 2 User Type: both\n",
      "Username: dianatid Email: dena.dianati@slu.edu User Level: 2 User Type: both\n",
      "Username: dmhall_SLUSTL Email: dmhall@slu.edu User Level: 2 User Type: both\n",
      "Username: edmundsonns Email: nicholas.edmundson@slu.edu User Level: 2 User Type: both\n",
      "Username: emmaleeblackwood Email: emma.blackwood@slu.edu User Level: 2 User Type: arcgisonly\n",
      "Username: femmermd_SLUSTL Email: femmermd@gmail.com User Level: 2 User Type: arcgisonly\n",
      "Username: flanaganm Email: matt.flanagan@slu.edu User Level: 2 User Type: both\n",
      "Username: fogelns Email: nina.fogel@slu.edu User Level: 2 User Type: both\n",
      "Username: fredrickha Email: honor.fredrick@slu.edu User Level: 2 User Type: both\n",
      "Username: gchadala Email: gchadala@slu.edu User Level: 2 User Type: both\n",
      "Username: gilberpg_slu Email: philip.gilbertson@slu.edu User Level: 2 User Type: arcgisonly\n",
      "Username: gregbrunner_slugis Email: gregory.brunner@slu.edu User Level: 2 User Type: both\n",
      "Username: hamilljc_SLUSTL Email: hamilljc@slu.edu User Level: 2 User Type: arcgisonly\n",
      "Username: haretr_SLUSTL Email: haretr@slu.edu User Level: 2 User Type: both\n",
      "Username: heinemannpd Email: paul.heinemann@slu.edu User Level: 2 User Type: both\n",
      "Username: hermannscl Email: cecile.hermanns@slu.edu User Level: 2 User Type: both\n",
      "Username: huttiet Email: ellen.hutti@slu.edu User Level: 2 User Type: both\n",
      "Username: ilopezba_SLUSTL Email: ilopezba@slu.edu User Level: 2 User Type: arcgisonly\n",
      "Username: jake.brinkman Email: jacob.brinkman@slu.edu User Level: 2 User Type: arcgisonly\n",
      "Username: jbesser Email: jbesser@slu.edu User Level: 2 User Type: both\n",
      "Username: jesnstevens Email: jes.stevens@slu.edu User Level: 2 User Type: arcgisonly\n",
      "Username: jlovato12 Email: jlovato@slu.edu User Level: 2 User Type: both\n",
      "Username: jsandov3@slu.edu Email: jsandov3@slu.edu User Level: 2 User Type: both\n",
      "Username: jtchin Email: chinj@slu.edu User Level: 2 User Type: both\n",
      "Username: kevineblimit_slustl Email: kevin.eblimit@slu.edu User Level: 2 User Type: arcgisonly\n",
      "Username: kirlinb Email: brenda.kirlin@slu.edu User Level: 2 User Type: both\n",
      "Username: kostielneymi Email: margaret.kostielney@slu.edu User Level: 2 User Type: arcgisonly\n",
      "Username: laurenlovato_slustl Email: lauren.lovato@slu.edu User Level: 2 User Type: both\n",
      "Username: lbernett_SLUSTL Email: lbernett@slu.edu User Level: 2 User Type: arcgisonly\n",
      "Username: Leard_SLUSTL Email: Leard@stlzoo.org User Level: 2 User Type: arcgisonly\n",
      "Username: lockmillerka Email: kayla.lockmiller@slu.edu User Level: 2 User Type: arcgisonly\n",
      "Username: loganwilliams_slustl Email: logan.williams@slu.edu User Level: 2 User Type: arcgisonly\n",
      "Username: loniewskimg Email: matthew.loniewski@slu.edu User Level: 2 User Type: both\n",
      "Username: madisonbrown3 Email: madison.bailey@slu.edu User Level: 2 User Type: both\n",
      "Username: mainhartmr Email: melissa.mainhart@slu.edu User Level: 2 User Type: both\n",
      "Username: matthewroark_slustl Email: matthew.roark@slu.edu User Level: 2 User Type: both\n",
      "Username: maxwellac Email: anna.maxwell@slu.edu User Level: 2 User Type: both\n",
      "Username: mcnelson0 Email: matt.nelson@slu.edu User Level: 2 User Type: both\n",
      "Username: megan.greathousegause_SLUSTL Email: megan.greathousegause@health.slu.edu User Level: 2 User Type: both\n",
      "Username: mmuell37_SLUSTL Email: mmuell37@slu.edu User Level: 2 User Type: both\n",
      "Username: mschootm Email: schootm@slu.edu User Level: 2 User Type: both\n",
      "Username: nandismith Email: nandi.smith@slu.edu User Level: 2 User Type: both\n",
      "Username: opusmbephd Email: elliotmb@slu.edu User Level: 2 User Type: both\n",
      "Username: ottena Email: alyssa.otten@slu.edu User Level: 2 User Type: both\n",
      "Username: pagliaro_slu Email: megan.pagliaro@slu.edu User Level: 2 User Type: arcgisonly\n",
      "Username: red_catan Email: nelsonej@slu.edu User Level: 2 User Type: both\n",
      "Username: reev6867_SLUSTL Email: reev6867@gmail.com User Level: 2 User Type: both\n",
      "Username: robertwurth_slustl Email: robert.wurth@health.slu.edu User Level: 2 User Type: both\n",
      "Username: roderzm Email: zachary.roder@slu.edu User Level: 2 User Type: both\n",
      "Username: ryan.norrenberns_SLUSTL Email: ryan.norrenberns@slu.edu User Level: 2 User Type: both\n",
      "Username: sakowskimk Email: maria.sakowski@slu.edu User Level: 2 User Type: both\n",
      "Username: schwarzkopfrl7 Email: rachel.schwarzkopf@slu.edu User Level: 2 User Type: both\n",
      "Username: shaughnessyar Email: andrew.shaughnessy@slu.edu User Level: 2 User Type: arcgisonly\n",
      "Username: sspiegel_slu Email: steven.spiegel@slu.edu User Level: 2 User Type: arcgisonly\n",
      "Username: stephenSLU Email: stephen.leard@slu.edu User Level: 2 User Type: arcgisonly\n",
      "Username: stluedu_SLUSTL Email: stluedu@gmail.com User Level: 2 User Type: arcgisonly\n",
      "Username: SuePSC Email: peggy.clements@slu.edu User Level: 2 User Type: arcgisonly\n",
      "Username: syedaval Email: syedaval@slu.edu User Level: 2 User Type: both\n",
      "Username: tara.mott_SLUSTL Email: tara.mott@slu.edu User Level: 2 User Type: both\n",
      "Username: tongxu_SLUSTL Email: tongxu@slu.edu User Level: 2 User Type: both\n",
      "Username: txiao1_SLUSTL Email: txiao1@slu.edu User Level: 2 User Type: arcgisonly\n",
      "Username: Tyritch Email: tyler.ritch@slu.edu User Level: 2 User Type: arcgisonly\n",
      "Username: wfmjr68 Email: wayne.moore@slu.edu User Level: 2 User Type: arcgisonly\n",
      "Username: yasen_SLUSTL Email: aishanjiang.yasen@slu.edu User Level: 2 User Type: both\n",
      "Username: yasena7 Email: aishanjiang.yasen@slu.edu User Level: 2 User Type: both\n",
      "Username: yvonne.fisher_SLUSTL Email: yvonne.fisher@slu.edu User Level: 2 User Type: both\n"
     ]
    }
   ],
   "source": [
    "for user in SLU:\n",
    "    print(\"Username: \"+ user.username + \" Email: \"+ user.email + \" User Level: \"+ user.level+ \" User Type: \"+ user.userType)"
   ]
  },
  {
   "cell_type": "code",
   "execution_count": null,
   "metadata": {},
   "outputs": [],
   "source": []
  }
 ],
 "metadata": {
  "kernelspec": {
   "display_name": "Python 3",
   "language": "python",
   "name": "python3"
  },
  "language_info": {
   "codemirror_mode": {
    "name": "ipython",
    "version": 3
   },
   "file_extension": ".py",
   "mimetype": "text/x-python",
   "name": "python",
   "nbconvert_exporter": "python",
   "pygments_lexer": "ipython3",
   "version": "3.6.5"
  }
 },
 "nbformat": 4,
 "nbformat_minor": 2
}

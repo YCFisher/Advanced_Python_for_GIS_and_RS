{
 "cells": [
  {
   "cell_type": "code",
   "execution_count": 1,
   "metadata": {},
   "outputs": [
    {
     "name": "stdout",
     "output_type": "stream",
     "text": [
      "Enter password: ········\n"
     ]
    }
   ],
   "source": [
    "from arcgis.gis import GIS\n",
    "\n",
    "gis = GIS(\"http://slustl.maps.arcgis.com/home\", \"cuaycongy_SLUSTL\")"
   ]
  },
  {
   "cell_type": "code",
   "execution_count": 2,
   "metadata": {},
   "outputs": [
    {
     "name": "stdout",
     "output_type": "stream",
     "text": [
      "Done\n"
     ]
    }
   ],
   "source": [
    "import os\n",
    "\n",
    "data_oldname = r\"D:\\GIS 5091 Advanced Python\\Advanced_Python_for_GIS_and_RS\\JupyterNotebooks\\Assignments\\Assignment 7\\STL_Crime_gjb.gdb.zip\"\n",
    "data = r\"D:\\GIS 5091 Advanced Python\\Advanced_Python_for_GIS_and_RS\\JupyterNotebooks\\Assignments\\Assignment 7\\STL_Crime_YCF.gdb.zip\"\n",
    "\n",
    "os.rename(data_oldname, data)\n",
    "print(\"Done\")"
   ]
  },
  {
   "cell_type": "code",
   "execution_count": 3,
   "metadata": {},
   "outputs": [
    {
     "data": {
      "text/html": [
       "<div class=\"item_container\" style=\"height: auto; overflow: hidden; border: 1px solid #cfcfcf; border-radius: 2px; background: #f6fafa; line-height: 1.21429em; padding: 10px;\">\n",
       "                    <div class=\"item_left\" style=\"width: 210px; float: left;\">\n",
       "                       <a href='http://SLUSTL.maps.arcgis.com/home/item.html?id=ec621f04ebcb40809343c4975bbb5c31' target='_blank'>\n",
       "                        <img src='http://static.arcgis.com/images/desktopapp.png' class=\"itemThumbnail\">\n",
       "                       </a>\n",
       "                    </div>\n",
       "\n",
       "                    <div class=\"item_right\"     style=\"float: none; width: auto; overflow: hidden;\">\n",
       "                        <a href='http://SLUSTL.maps.arcgis.com/home/item.html?id=ec621f04ebcb40809343c4975bbb5c31' target='_blank'><b>St. Louis Crime Data YCF</b>\n",
       "                        </a>\n",
       "                        <br/><img src='http://SLUSTL.maps.arcgis.com/home/js/jsapi/esri/css/images/item_type_icons/featureshosted16.png' style=\"vertical-align:middle;\">Feature Layer Collection by cuaycongy_SLUSTL\n",
       "                        <br/>Last Modified: October 21, 2018\n",
       "                        <br/>0 comments, 0 views\n",
       "                    </div>\n",
       "                </div>\n",
       "                "
      ],
      "text/plain": [
       "<Item title:\"St. Louis Crime Data YCF\" type:Feature Layer Collection owner:cuaycongy_SLUSTL>"
      ]
     },
     "execution_count": 3,
     "metadata": {},
     "output_type": "execute_result"
    }
   ],
   "source": [
    "STL_Crime = gis.content.add({\"title\":\"St. Louis Crime Data YCF\", \"tags\":\"Saint Louis\"}, data)\n",
    "published_STL_Crime = STL_Crime.publish()\n",
    "published_STL_Crime.share(org=True)\n",
    "published_STL_Crime"
   ]
  },
  {
   "cell_type": "code",
   "execution_count": 9,
   "metadata": {},
   "outputs": [
    {
     "name": "stdout",
     "output_type": "stream",
     "text": [
      "Done\n"
     ]
    }
   ],
   "source": [
    "import os\n",
    "\n",
    "data_oldname2 = r\"D:\\GIS 5091 Advanced Python\\Advanced_Python_for_GIS_and_RS\\JupyterNotebooks\\Assignments\\Assignment 7\\nbrhds_wards_gjb.zip\"\n",
    "data2 = r\"D:\\GIS 5091 Advanced Python\\Advanced_Python_for_GIS_and_RS\\JupyterNotebooks\\Assignments\\Assignment 7\\nbrhds_wards_YCF.zip\"\n",
    "\n",
    "os.rename(data_oldname2, data2)\n",
    "print(\"Done\")"
   ]
  },
  {
   "cell_type": "code",
   "execution_count": 10,
   "metadata": {},
   "outputs": [
    {
     "data": {
      "text/html": [
       "<div class=\"item_container\" style=\"height: auto; overflow: hidden; border: 1px solid #cfcfcf; border-radius: 2px; background: #f6fafa; line-height: 1.21429em; padding: 10px;\">\n",
       "                    <div class=\"item_left\" style=\"width: 210px; float: left;\">\n",
       "                       <a href='http://SLUSTL.maps.arcgis.com/home/item.html?id=701a002f141c4091873621276137ff44' target='_blank'>\n",
       "                        <img src='http://static.arcgis.com/images/desktopapp.png' class=\"itemThumbnail\">\n",
       "                       </a>\n",
       "                    </div>\n",
       "\n",
       "                    <div class=\"item_right\"     style=\"float: none; width: auto; overflow: hidden;\">\n",
       "                        <a href='http://SLUSTL.maps.arcgis.com/home/item.html?id=701a002f141c4091873621276137ff44' target='_blank'><b>St. Louis Neighborhood Data YCF</b>\n",
       "                        </a>\n",
       "                        <br/><img src='http://SLUSTL.maps.arcgis.com/home/js/jsapi/esri/css/images/item_type_icons/featureshosted16.png' style=\"vertical-align:middle;\">Feature Layer Collection by cuaycongy_SLUSTL\n",
       "                        <br/>Last Modified: October 21, 2018\n",
       "                        <br/>0 comments, 0 views\n",
       "                    </div>\n",
       "                </div>\n",
       "                "
      ],
      "text/plain": [
       "<Item title:\"St. Louis Neighborhood Data YCF\" type:Feature Layer Collection owner:cuaycongy_SLUSTL>"
      ]
     },
     "execution_count": 10,
     "metadata": {},
     "output_type": "execute_result"
    }
   ],
   "source": [
    "STL_Nbrhds = gis.content.add({\"title\":\"St. Louis Neighborhood Data YCF\", \"tags\":\"Saint Louis\"}, data2)\n",
    "published_STL_Nbrhds = STL_Nbrhds.publish()\n",
    "published_STL_Nbrhds.share(org=True)\n",
    "published_STL_Nbrhds"
   ]
  },
  {
   "cell_type": "code",
   "execution_count": null,
   "metadata": {},
   "outputs": [],
   "source": []
  }
 ],
 "metadata": {
  "kernelspec": {
   "display_name": "Python 3",
   "language": "python",
   "name": "python3"
  },
  "language_info": {
   "codemirror_mode": {
    "name": "ipython",
    "version": 3
   },
   "file_extension": ".py",
   "mimetype": "text/x-python",
   "name": "python",
   "nbconvert_exporter": "python",
   "pygments_lexer": "ipython3",
   "version": "3.6.5"
  }
 },
 "nbformat": 4,
 "nbformat_minor": 2
}

{
 "cells": [
  {
   "cell_type": "code",
   "execution_count": 1,
   "metadata": {},
   "outputs": [
    {
     "name": "stdout",
     "output_type": "stream",
     "text": [
      "Enter password: ········\n"
     ]
    }
   ],
   "source": [
    "import pandas as pd\n",
    "import requests\n",
    "import json\n",
    "import arcgis\n",
    "from arcgis.gis import GIS\n",
    "from IPython.display import display\n",
    "import os\n",
    "from arcgis.gis import GIS\n",
    "\n",
    "gis = GIS(\"http://slustl.maps.arcgis.com/home\", \"cuaycongy_SLUSTL\")"
   ]
  },
  {
   "cell_type": "code",
   "execution_count": 17,
   "metadata": {},
   "outputs": [
    {
     "data": {
      "text/plain": [
       "['GBR', 'FRA', 'AUS', 'DEU', 'USA']"
      ]
     },
     "execution_count": 17,
     "metadata": {},
     "output_type": "execute_result"
    }
   ],
   "source": [
    "country_list = [\"GBR\", \"FRA\", \"AUS\", \"DEU\", \"USA\"]\n",
    "country_list"
   ]
  },
  {
   "cell_type": "code",
   "execution_count": 29,
   "metadata": {},
   "outputs": [
    {
     "name": "stdout",
     "output_type": "stream",
     "text": [
      "Importing\n",
      "Publishing\n",
      "Done\n"
     ]
    }
   ],
   "source": [
    "df = pd.read_json('http://popdata.unhcr.org/api/stats/resettlement.json?year=2014&country_of_asylum=GBR')\n",
    "print(\"Importing\")\n",
    "resettlment_stats = gis.content.import_data(df, {\"Address\" : \"country_of_origin_en\"})\n",
    "print(\"Publishing\")\n",
    "item_properties = {\n",
    "        \"title\": \"UNHCR GBR\" ,\n",
    "        \"tags\" : \"UNHCR\",\n",
    "        \"snippet\": \" UNHCR\",\n",
    "        \"description\": \"test description\",\n",
    "        \"text\": json.dumps({\"featureCollection\": {\"layers\": [dict(resettlment_stats.layer)]}}),\n",
    "        \"type\": \"Feature Collection\",\n",
    "        \"typeKeywords\": \"Data, Feature Collection, Singlelayer\"\n",
    "    }\n",
    "\n",
    "item = gis.content.add(item_properties)\n",
    "print(\"Done\")"
   ]
  },
  {
   "cell_type": "code",
   "execution_count": 30,
   "metadata": {},
   "outputs": [
    {
     "name": "stdout",
     "output_type": "stream",
     "text": [
      "Importing\n",
      "Publishing\n",
      "Done\n"
     ]
    }
   ],
   "source": [
    "df = pd.read_json('http://popdata.unhcr.org/api/stats/resettlement.json?year=2014&country_of_asylum=FRA')\n",
    "print(\"Importing\")\n",
    "resettlment_stats = gis.content.import_data(df, {\"Address\" : \"country_of_origin_en\"})\n",
    "print(\"Publishing\")\n",
    "item_properties = {\n",
    "        \"title\": \"UNHCR FRA\" ,\n",
    "        \"tags\" : \"UNHCR\",\n",
    "        \"snippet\": \" UNHCR\",\n",
    "        \"description\": \"test description\",\n",
    "        \"text\": json.dumps({\"featureCollection\": {\"layers\": [dict(resettlment_stats.layer)]}}),\n",
    "        \"type\": \"Feature Collection\",\n",
    "        \"typeKeywords\": \"Data, Feature Collection, Singlelayer\"\n",
    "    }\n",
    "\n",
    "item = gis.content.add(item_properties)\n",
    "print(\"Done\")"
   ]
  },
  {
   "cell_type": "code",
   "execution_count": 31,
   "metadata": {},
   "outputs": [
    {
     "name": "stdout",
     "output_type": "stream",
     "text": [
      "Importing\n",
      "Publishing\n",
      "Done\n"
     ]
    }
   ],
   "source": [
    "df = pd.read_json('http://popdata.unhcr.org/api/stats/resettlement.json?year=2014&country_of_asylum=AUS')\n",
    "print(\"Importing\")\n",
    "resettlment_stats = gis.content.import_data(df, {\"Address\" : \"country_of_origin_en\"})\n",
    "print(\"Publishing\")\n",
    "item_properties = {\n",
    "        \"title\": \"UNHCR AUS\" ,\n",
    "        \"tags\" : \"UNHCR\",\n",
    "        \"snippet\": \" UNHCR\",\n",
    "        \"description\": \"test description\",\n",
    "        \"text\": json.dumps({\"featureCollection\": {\"layers\": [dict(resettlment_stats.layer)]}}),\n",
    "        \"type\": \"Feature Collection\",\n",
    "        \"typeKeywords\": \"Data, Feature Collection, Singlelayer\"\n",
    "    }\n",
    "\n",
    "item = gis.content.add(item_properties)\n",
    "print(\"Done\")"
   ]
  },
  {
   "cell_type": "code",
   "execution_count": 32,
   "metadata": {},
   "outputs": [
    {
     "name": "stdout",
     "output_type": "stream",
     "text": [
      "Importing\n",
      "Publishing\n",
      "Done\n"
     ]
    }
   ],
   "source": [
    "df = pd.read_json('http://popdata.unhcr.org/api/stats/resettlement.json?year=2014&country_of_asylum=DEU')\n",
    "print(\"Importing\")\n",
    "resettlment_stats = gis.content.import_data(df, {\"Address\" : \"country_of_origin_en\"})\n",
    "print(\"Publishing\")\n",
    "item_properties = {\n",
    "        \"title\": \"UNHCR DEU\" ,\n",
    "        \"tags\" : \"UNHCR\",\n",
    "        \"snippet\": \" UNHCR\",\n",
    "        \"description\": \"test description\",\n",
    "        \"text\": json.dumps({\"featureCollection\": {\"layers\": [dict(resettlment_stats.layer)]}}),\n",
    "        \"type\": \"Feature Collection\",\n",
    "        \"typeKeywords\": \"Data, Feature Collection, Singlelayer\"\n",
    "    }\n",
    "\n",
    "item = gis.content.add(item_properties)\n",
    "print(\"Done\")"
   ]
  },
  {
   "cell_type": "code",
   "execution_count": 33,
   "metadata": {},
   "outputs": [
    {
     "name": "stdout",
     "output_type": "stream",
     "text": [
      "Importing\n",
      "Publishing\n",
      "Done\n"
     ]
    }
   ],
   "source": [
    "df = pd.read_json('http://popdata.unhcr.org/api/stats/resettlement.json?year=2014&country_of_asylum=USA')\n",
    "print(\"Importing\")\n",
    "resettlment_stats = gis.content.import_data(df, {\"Address\" : \"country_of_origin_en\"})\n",
    "print(\"Publishing\")\n",
    "item_properties = {\n",
    "        \"title\": \"UNHCR USA\" ,\n",
    "        \"tags\" : \"UNHCR\",\n",
    "        \"snippet\": \" UNHCR\",\n",
    "        \"description\": \"test description\",\n",
    "        \"text\": json.dumps({\"featureCollection\": {\"layers\": [dict(resettlment_stats.layer)]}}),\n",
    "        \"type\": \"Feature Collection\",\n",
    "        \"typeKeywords\": \"Data, Feature Collection, Singlelayer\"\n",
    "    }\n",
    "\n",
    "item = gis.content.add(item_properties)\n",
    "print(\"Done\")"
   ]
  },
  {
   "cell_type": "code",
   "execution_count": null,
   "metadata": {},
   "outputs": [],
   "source": []
  }
 ],
 "metadata": {
  "kernelspec": {
   "display_name": "Python 3",
   "language": "python",
   "name": "python3"
  },
  "language_info": {
   "codemirror_mode": {
    "name": "ipython",
    "version": 3
   },
   "file_extension": ".py",
   "mimetype": "text/x-python",
   "name": "python",
   "nbconvert_exporter": "python",
   "pygments_lexer": "ipython3",
   "version": "3.6.5"
  }
 },
 "nbformat": 4,
 "nbformat_minor": 2
}

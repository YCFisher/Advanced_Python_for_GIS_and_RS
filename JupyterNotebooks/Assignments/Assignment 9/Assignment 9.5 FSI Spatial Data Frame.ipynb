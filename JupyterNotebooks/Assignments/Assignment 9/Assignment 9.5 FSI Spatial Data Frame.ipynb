{
 "cells": [
  {
   "cell_type": "code",
   "execution_count": 1,
   "metadata": {},
   "outputs": [],
   "source": [
    "import pandas as pd\n",
    "import arcgis\n",
    "from arcgis.features import SpatialDataFrame \n",
    "from arcgis.gis import GIS"
   ]
  },
  {
   "cell_type": "code",
   "execution_count": 4,
   "metadata": {},
   "outputs": [
    {
     "data": {
      "text/html": [
       "<div>\n",
       "<style scoped>\n",
       "    .dataframe tbody tr th:only-of-type {\n",
       "        vertical-align: middle;\n",
       "    }\n",
       "\n",
       "    .dataframe tbody tr th {\n",
       "        vertical-align: top;\n",
       "    }\n",
       "\n",
       "    .dataframe thead th {\n",
       "        text-align: right;\n",
       "    }\n",
       "</style>\n",
       "<table border=\"1\" class=\"dataframe\">\n",
       "  <thead>\n",
       "    <tr style=\"text-align: right;\">\n",
       "      <th></th>\n",
       "      <th>Country</th>\n",
       "      <th>Year</th>\n",
       "      <th>Rank</th>\n",
       "      <th>Total</th>\n",
       "      <th>C1: Security Apparatus</th>\n",
       "      <th>C2: Factionalized Elites</th>\n",
       "      <th>C3: Group Grievance</th>\n",
       "      <th>E1: Economy</th>\n",
       "      <th>E2: Economic Inequality</th>\n",
       "      <th>E3: Human Flight and Brain Drain</th>\n",
       "      <th>P1: State Legitimacy</th>\n",
       "      <th>P2: Public Services</th>\n",
       "      <th>P3: Human Rights</th>\n",
       "      <th>S1: Demographic Pressures</th>\n",
       "      <th>S2: Refugees and IDPs</th>\n",
       "      <th>X1: External Intervention</th>\n",
       "    </tr>\n",
       "  </thead>\n",
       "  <tbody>\n",
       "    <tr>\n",
       "      <th>0</th>\n",
       "      <td>South Sudan</td>\n",
       "      <td>2018-01-01</td>\n",
       "      <td>1st</td>\n",
       "      <td>113.357315</td>\n",
       "      <td>10.0</td>\n",
       "      <td>9.7</td>\n",
       "      <td>9.7</td>\n",
       "      <td>10.0</td>\n",
       "      <td>8.890018</td>\n",
       "      <td>6.300000</td>\n",
       "      <td>10.000000</td>\n",
       "      <td>9.942346</td>\n",
       "      <td>9.200000</td>\n",
       "      <td>10.000000</td>\n",
       "      <td>10.0</td>\n",
       "      <td>9.624950</td>\n",
       "    </tr>\n",
       "    <tr>\n",
       "      <th>1</th>\n",
       "      <td>Somalia</td>\n",
       "      <td>2018-01-01</td>\n",
       "      <td>2nd</td>\n",
       "      <td>113.200796</td>\n",
       "      <td>9.7</td>\n",
       "      <td>10.0</td>\n",
       "      <td>9.0</td>\n",
       "      <td>8.9</td>\n",
       "      <td>9.300000</td>\n",
       "      <td>9.500000</td>\n",
       "      <td>9.119045</td>\n",
       "      <td>9.300000</td>\n",
       "      <td>9.600000</td>\n",
       "      <td>10.000000</td>\n",
       "      <td>9.7</td>\n",
       "      <td>9.081752</td>\n",
       "    </tr>\n",
       "    <tr>\n",
       "      <th>2</th>\n",
       "      <td>Yemen</td>\n",
       "      <td>2018-01-01</td>\n",
       "      <td>3rd</td>\n",
       "      <td>112.671504</td>\n",
       "      <td>9.9</td>\n",
       "      <td>10.0</td>\n",
       "      <td>9.5</td>\n",
       "      <td>9.6</td>\n",
       "      <td>8.200000</td>\n",
       "      <td>7.180662</td>\n",
       "      <td>9.728508</td>\n",
       "      <td>9.700000</td>\n",
       "      <td>9.762334</td>\n",
       "      <td>9.600000</td>\n",
       "      <td>9.5</td>\n",
       "      <td>10.000000</td>\n",
       "    </tr>\n",
       "    <tr>\n",
       "      <th>3</th>\n",
       "      <td>Syria</td>\n",
       "      <td>2018-01-01</td>\n",
       "      <td>4th</td>\n",
       "      <td>111.393031</td>\n",
       "      <td>9.9</td>\n",
       "      <td>9.9</td>\n",
       "      <td>9.9</td>\n",
       "      <td>8.5</td>\n",
       "      <td>7.800000</td>\n",
       "      <td>8.100000</td>\n",
       "      <td>9.893031</td>\n",
       "      <td>9.300000</td>\n",
       "      <td>9.900000</td>\n",
       "      <td>8.200000</td>\n",
       "      <td>10.0</td>\n",
       "      <td>10.000000</td>\n",
       "    </tr>\n",
       "    <tr>\n",
       "      <th>4</th>\n",
       "      <td>Central African Republic</td>\n",
       "      <td>2018-01-01</td>\n",
       "      <td>5th</td>\n",
       "      <td>111.126345</td>\n",
       "      <td>9.1</td>\n",
       "      <td>9.7</td>\n",
       "      <td>8.8</td>\n",
       "      <td>8.8</td>\n",
       "      <td>9.768958</td>\n",
       "      <td>7.400000</td>\n",
       "      <td>9.400000</td>\n",
       "      <td>9.955870</td>\n",
       "      <td>9.400000</td>\n",
       "      <td>9.301516</td>\n",
       "      <td>10.0</td>\n",
       "      <td>9.500000</td>\n",
       "    </tr>\n",
       "  </tbody>\n",
       "</table>\n",
       "</div>"
      ],
      "text/plain": [
       "                    Country       Year Rank       Total  \\\n",
       "0               South Sudan 2018-01-01  1st  113.357315   \n",
       "1                   Somalia 2018-01-01  2nd  113.200796   \n",
       "2                     Yemen 2018-01-01  3rd  112.671504   \n",
       "3                     Syria 2018-01-01  4th  111.393031   \n",
       "4  Central African Republic 2018-01-01  5th  111.126345   \n",
       "\n",
       "   C1: Security Apparatus  C2: Factionalized Elites  C3: Group Grievance  \\\n",
       "0                    10.0                       9.7                  9.7   \n",
       "1                     9.7                      10.0                  9.0   \n",
       "2                     9.9                      10.0                  9.5   \n",
       "3                     9.9                       9.9                  9.9   \n",
       "4                     9.1                       9.7                  8.8   \n",
       "\n",
       "   E1: Economy  E2: Economic Inequality  E3: Human Flight and Brain Drain  \\\n",
       "0         10.0                 8.890018                          6.300000   \n",
       "1          8.9                 9.300000                          9.500000   \n",
       "2          9.6                 8.200000                          7.180662   \n",
       "3          8.5                 7.800000                          8.100000   \n",
       "4          8.8                 9.768958                          7.400000   \n",
       "\n",
       "   P1: State Legitimacy  P2: Public Services  P3: Human Rights  \\\n",
       "0             10.000000             9.942346          9.200000   \n",
       "1              9.119045             9.300000          9.600000   \n",
       "2              9.728508             9.700000          9.762334   \n",
       "3              9.893031             9.300000          9.900000   \n",
       "4              9.400000             9.955870          9.400000   \n",
       "\n",
       "   S1: Demographic Pressures  S2: Refugees and IDPs  X1: External Intervention  \n",
       "0                  10.000000                   10.0                   9.624950  \n",
       "1                  10.000000                    9.7                   9.081752  \n",
       "2                   9.600000                    9.5                  10.000000  \n",
       "3                   8.200000                   10.0                  10.000000  \n",
       "4                   9.301516                   10.0                   9.500000  "
      ]
     },
     "execution_count": 4,
     "metadata": {},
     "output_type": "execute_result"
    }
   ],
   "source": [
    "fsi_csv = pd.read_excel(\"fsi-2018.xlsx\")\n",
    "fsi_csv.head()"
   ]
  },
  {
   "cell_type": "code",
   "execution_count": 6,
   "metadata": {},
   "outputs": [
    {
     "data": {
      "text/plain": [
       "array(['Country', 'Year', 'Rank', 'Total', 'C1: Security Apparatus',\n",
       "       'C2: Factionalized Elites', 'C3: Group Grievance', 'E1: Economy',\n",
       "       'E2: Economic Inequality', 'E3: Human Flight and Brain Drain',\n",
       "       'P1: State Legitimacy', 'P2: Public Services', 'P3: Human Rights',\n",
       "       'S1: Demographic Pressures', 'S2: Refugees and IDPs',\n",
       "       'X1: External Intervention'], dtype=object)"
      ]
     },
     "execution_count": 6,
     "metadata": {},
     "output_type": "execute_result"
    }
   ],
   "source": [
    "fsi_csv.columns.values"
   ]
  },
  {
   "cell_type": "code",
   "execution_count": 51,
   "metadata": {},
   "outputs": [],
   "source": [
    "cols = ['C1: Security Apparatus',\n",
    "       'C2: Factionalized Elites', 'C3: Group Grievance', 'E1: Economy',\n",
    "       'E2: Economic Inequality', 'E3: Human Flight and Brain Drain',\n",
    "       'P1: State Legitimacy', 'P2: Public Services', 'P3: Human Rights',\n",
    "       'S1: Demographic Pressures', 'S2: Refugees and IDPs',\n",
    "       'X1: External Intervention']"
   ]
  },
  {
   "cell_type": "code",
   "execution_count": 52,
   "metadata": {},
   "outputs": [
    {
     "name": "stdout",
     "output_type": "stream",
     "text": [
      "C1: Security Apparatus\n",
      "0                  South Sudan\n",
      "8                  Afghanistan\n",
      "2                        Yemen\n",
      "3                        Syria\n",
      "46                 Philippines\n",
      "1                      Somalia\n",
      "7                         Chad\n",
      "26                        Mali\n",
      "24                       Libya\n",
      "4     Central African Republic\n",
      "Name: Country, dtype: object\n",
      "C2: Factionalized Elites\n",
      "9                      Zimbabwe\n",
      "2                         Yemen\n",
      "1                       Somalia\n",
      "3                         Syria\n",
      "5     Congo Democratic Republic\n",
      "0                   South Sudan\n",
      "4      Central African Republic\n",
      "6                         Sudan\n",
      "16                        Kenya\n",
      "43                      Lebanon\n",
      "Name: Country, dtype: object\n",
      "C3: Group Grievance\n",
      "57                       Turkey\n",
      "6                         Sudan\n",
      "66         Israel and West Bank\n",
      "5     Congo Democratic Republic\n",
      "3                         Syria\n",
      "21                      Myanmar\n",
      "19                     Pakistan\n",
      "0                   South Sudan\n",
      "33                       Rwanda\n",
      "38                        Nepal\n",
      "Name: Country, dtype: object\n",
      "E1: Economy\n",
      "0                  South Sudan\n",
      "39                   Swaziland\n",
      "2                        Yemen\n",
      "7                         Chad\n",
      "27                 North Korea\n",
      "1                      Somalia\n",
      "12                      Guinea\n",
      "4     Central African Republic\n",
      "42                      Gambia\n",
      "9                     Zimbabwe\n",
      "Name: Country, dtype: object\n",
      "E2: Economic Inequality\n",
      "4     Central African Republic\n",
      "32                      Angola\n",
      "11                       Haiti\n",
      "7                         Chad\n",
      "1                      Somalia\n",
      "40                      Zambia\n",
      "50            Papua New Guinea\n",
      "36                  Mozambique\n",
      "53                  Madagascar\n",
      "15               Guinea Bissau\n",
      "Name: Country, dtype: object\n",
      "E3: Human Flight and Brain Drain\n",
      "79                Micronesia\n",
      "1                    Somalia\n",
      "110                    Samoa\n",
      "97                    Guyana\n",
      "91     Sao Tome and Principe\n",
      "11                     Haiti\n",
      "7                       Chad\n",
      "18                   Eritrea\n",
      "6                      Sudan\n",
      "26                      Mali\n",
      "Name: Country, dtype: object\n",
      "P1: State Legitimacy\n",
      "0           South Sudan\n",
      "27          North Korea\n",
      "3                 Syria\n",
      "24                Libya\n",
      "54    Equatorial Guinea\n",
      "6                 Sudan\n",
      "2                 Yemen\n",
      "9              Zimbabwe\n",
      "12               Guinea\n",
      "85         Turkmenistan\n",
      "Name: Country, dtype: object\n",
      "P2: Public Services\n",
      "4      Central African Republic\n",
      "8                   Afghanistan\n",
      "0                   South Sudan\n",
      "7                          Chad\n",
      "2                         Yemen\n",
      "5     Congo Democratic Republic\n",
      "11                        Haiti\n",
      "20                        Niger\n",
      "36                   Mozambique\n",
      "12                       Guinea\n",
      "Name: Country, dtype: object\n",
      "P3: Human Rights\n",
      "3                         Syria\n",
      "35                        Egypt\n",
      "5     Congo Democratic Republic\n",
      "2                         Yemen\n",
      "1                       Somalia\n",
      "27                  North Korea\n",
      "24                        Libya\n",
      "4      Central African Republic\n",
      "6                         Sudan\n",
      "68                       Russia\n",
      "Name: Country, dtype: object\n",
      "S1: Demographic Pressures\n",
      "0                   South Sudan\n",
      "1                       Somalia\n",
      "7                          Chad\n",
      "36                   Mozambique\n",
      "2                         Yemen\n",
      "5     Congo Democratic Republic\n",
      "40                       Zambia\n",
      "14                     Ethiopia\n",
      "37                  Timor-Leste\n",
      "17                      Burundi\n",
      "Name: Country, dtype: object\n",
      "S2: Refugees and IDPs\n",
      "0                   South Sudan\n",
      "3                         Syria\n",
      "4      Central African Republic\n",
      "5     Congo Democratic Republic\n",
      "8                   Afghanistan\n",
      "1                       Somalia\n",
      "10                         Iraq\n",
      "2                         Yemen\n",
      "6                         Sudan\n",
      "7                          Chad\n",
      "Name: Country, dtype: object\n",
      "X1: External Intervention\n",
      "24                         Libya\n",
      "2                          Yemen\n",
      "3                          Syria\n",
      "11                         Haiti\n",
      "27                   North Korea\n",
      "79                    Micronesia\n",
      "5      Congo Democratic Republic\n",
      "0                    South Sudan\n",
      "4       Central African Republic\n",
      "110                        Samoa\n",
      "Name: Country, dtype: object\n"
     ]
    }
   ],
   "source": [
    "for co in cols:\n",
    "    sort = fsi_csv.sort_values(by=[co], ascending=False)\n",
    "    print(co)\n",
    "    print(sort['Country'].head(10))"
   ]
  },
  {
   "cell_type": "code",
   "execution_count": 13,
   "metadata": {},
   "outputs": [
    {
     "name": "stdout",
     "output_type": "stream",
     "text": [
      "C1: Security Apparatus\n"
     ]
    },
    {
     "data": {
      "text/plain": [
       "0                  South Sudan\n",
       "8                  Afghanistan\n",
       "2                        Yemen\n",
       "3                        Syria\n",
       "46                 Philippines\n",
       "1                      Somalia\n",
       "7                         Chad\n",
       "26                        Mali\n",
       "24                       Libya\n",
       "4     Central African Republic\n",
       "Name: Country, dtype: object"
      ]
     },
     "execution_count": 13,
     "metadata": {},
     "output_type": "execute_result"
    }
   ],
   "source": [
    "C1 = fsi_csv.sort_values(by=['C1: Security Apparatus'], ascending=False)\n",
    "print(\"C1: Security Apparatus\")\n",
    "C1['Country'].head(10)"
   ]
  },
  {
   "cell_type": "code",
   "execution_count": 14,
   "metadata": {},
   "outputs": [
    {
     "name": "stdout",
     "output_type": "stream",
     "text": [
      "C2: Factionalized Elites\n"
     ]
    },
    {
     "data": {
      "text/plain": [
       "9                      Zimbabwe\n",
       "2                         Yemen\n",
       "1                       Somalia\n",
       "3                         Syria\n",
       "5     Congo Democratic Republic\n",
       "0                   South Sudan\n",
       "4      Central African Republic\n",
       "6                         Sudan\n",
       "16                        Kenya\n",
       "43                      Lebanon\n",
       "Name: Country, dtype: object"
      ]
     },
     "execution_count": 14,
     "metadata": {},
     "output_type": "execute_result"
    }
   ],
   "source": [
    "C2 = fsi_csv.sort_values(by=['C2: Factionalized Elites'], ascending=False)\n",
    "print(\"C2: Factionalized Elites\")\n",
    "C2['Country'].head(10)"
   ]
  },
  {
   "cell_type": "code",
   "execution_count": 18,
   "metadata": {},
   "outputs": [
    {
     "name": "stdout",
     "output_type": "stream",
     "text": [
      "C3: Group Grievance\n"
     ]
    },
    {
     "data": {
      "text/plain": [
       "57                       Turkey\n",
       "6                         Sudan\n",
       "66         Israel and West Bank\n",
       "5     Congo Democratic Republic\n",
       "3                         Syria\n",
       "21                      Myanmar\n",
       "19                     Pakistan\n",
       "0                   South Sudan\n",
       "33                       Rwanda\n",
       "38                        Nepal\n",
       "Name: Country, dtype: object"
      ]
     },
     "execution_count": 18,
     "metadata": {},
     "output_type": "execute_result"
    }
   ],
   "source": [
    "C3 = fsi_csv.sort_values(by=['C3: Group Grievance'], ascending=False)\n",
    "print(\"C3: Group Grievance\")\n",
    "C3['Country'].head(10)"
   ]
  },
  {
   "cell_type": "code",
   "execution_count": 20,
   "metadata": {},
   "outputs": [
    {
     "name": "stdout",
     "output_type": "stream",
     "text": [
      "E1: Economy\n"
     ]
    },
    {
     "data": {
      "text/plain": [
       "0                  South Sudan\n",
       "39                   Swaziland\n",
       "2                        Yemen\n",
       "7                         Chad\n",
       "27                 North Korea\n",
       "1                      Somalia\n",
       "12                      Guinea\n",
       "4     Central African Republic\n",
       "42                      Gambia\n",
       "9                     Zimbabwe\n",
       "Name: Country, dtype: object"
      ]
     },
     "execution_count": 20,
     "metadata": {},
     "output_type": "execute_result"
    }
   ],
   "source": [
    "E1 = fsi_csv.sort_values(by=['E1: Economy'], ascending=False)\n",
    "print(\"E1: Economy\")\n",
    "E1['Country'].head(10)"
   ]
  },
  {
   "cell_type": "code",
   "execution_count": 23,
   "metadata": {},
   "outputs": [
    {
     "name": "stdout",
     "output_type": "stream",
     "text": [
      "E2: Economic Inequality\n"
     ]
    },
    {
     "data": {
      "text/plain": [
       "4     Central African Republic\n",
       "32                      Angola\n",
       "11                       Haiti\n",
       "7                         Chad\n",
       "1                      Somalia\n",
       "40                      Zambia\n",
       "50            Papua New Guinea\n",
       "36                  Mozambique\n",
       "53                  Madagascar\n",
       "15               Guinea Bissau\n",
       "Name: Country, dtype: object"
      ]
     },
     "execution_count": 23,
     "metadata": {},
     "output_type": "execute_result"
    }
   ],
   "source": [
    "E2 = fsi_csv.sort_values(by=['E2: Economic Inequality'], ascending=False)\n",
    "print(\"E2: Economic Inequality\")\n",
    "E2['Country'].head(10)"
   ]
  },
  {
   "cell_type": "code",
   "execution_count": 26,
   "metadata": {},
   "outputs": [
    {
     "name": "stdout",
     "output_type": "stream",
     "text": [
      "E3: Human Flight and Brain Drain\n"
     ]
    },
    {
     "data": {
      "text/plain": [
       "79                Micronesia\n",
       "1                    Somalia\n",
       "110                    Samoa\n",
       "97                    Guyana\n",
       "91     Sao Tome and Principe\n",
       "11                     Haiti\n",
       "7                       Chad\n",
       "18                   Eritrea\n",
       "6                      Sudan\n",
       "26                      Mali\n",
       "Name: Country, dtype: object"
      ]
     },
     "execution_count": 26,
     "metadata": {},
     "output_type": "execute_result"
    }
   ],
   "source": [
    "E3 = fsi_csv.sort_values(by=['E3: Human Flight and Brain Drain'], ascending=False)\n",
    "print(\"E3: Human Flight and Brain Drain\")\n",
    "E3['Country'].head(10)"
   ]
  },
  {
   "cell_type": "code",
   "execution_count": 36,
   "metadata": {},
   "outputs": [
    {
     "name": "stdout",
     "output_type": "stream",
     "text": [
      "P1: State Legitimacy\n"
     ]
    },
    {
     "data": {
      "text/plain": [
       "0           South Sudan\n",
       "27          North Korea\n",
       "3                 Syria\n",
       "24                Libya\n",
       "54    Equatorial Guinea\n",
       "6                 Sudan\n",
       "2                 Yemen\n",
       "9              Zimbabwe\n",
       "12               Guinea\n",
       "85         Turkmenistan\n",
       "Name: Country, dtype: object"
      ]
     },
     "execution_count": 36,
     "metadata": {},
     "output_type": "execute_result"
    }
   ],
   "source": [
    "P1 = fsi_csv.sort_values(by=['P1: State Legitimacy'], ascending=False)\n",
    "print(\"P1: State Legitimacy\")\n",
    "P1['Country'].head(10)"
   ]
  },
  {
   "cell_type": "code",
   "execution_count": 37,
   "metadata": {},
   "outputs": [
    {
     "name": "stdout",
     "output_type": "stream",
     "text": [
      "P2: Public Services\n"
     ]
    },
    {
     "data": {
      "text/plain": [
       "4      Central African Republic\n",
       "8                   Afghanistan\n",
       "0                   South Sudan\n",
       "7                          Chad\n",
       "2                         Yemen\n",
       "5     Congo Democratic Republic\n",
       "11                        Haiti\n",
       "20                        Niger\n",
       "36                   Mozambique\n",
       "12                       Guinea\n",
       "Name: Country, dtype: object"
      ]
     },
     "execution_count": 37,
     "metadata": {},
     "output_type": "execute_result"
    }
   ],
   "source": [
    "P2 = fsi_csv.sort_values(by=['P2: Public Services'], ascending=False)\n",
    "print(\"P2: Public Services\")\n",
    "P2['Country'].head(10)"
   ]
  },
  {
   "cell_type": "code",
   "execution_count": 38,
   "metadata": {},
   "outputs": [
    {
     "name": "stdout",
     "output_type": "stream",
     "text": [
      "P3: Human Rights\n"
     ]
    },
    {
     "data": {
      "text/plain": [
       "3                         Syria\n",
       "35                        Egypt\n",
       "5     Congo Democratic Republic\n",
       "2                         Yemen\n",
       "1                       Somalia\n",
       "27                  North Korea\n",
       "24                        Libya\n",
       "4      Central African Republic\n",
       "6                         Sudan\n",
       "68                       Russia\n",
       "Name: Country, dtype: object"
      ]
     },
     "execution_count": 38,
     "metadata": {},
     "output_type": "execute_result"
    }
   ],
   "source": [
    "P3 = fsi_csv.sort_values(by=['P3: Human Rights'], ascending=False)\n",
    "print(\"P3: Human Rights\")\n",
    "P3['Country'].head(10)"
   ]
  },
  {
   "cell_type": "code",
   "execution_count": 39,
   "metadata": {},
   "outputs": [
    {
     "name": "stdout",
     "output_type": "stream",
     "text": [
      "S1: Demographic Pressures\n"
     ]
    },
    {
     "data": {
      "text/plain": [
       "0                   South Sudan\n",
       "1                       Somalia\n",
       "7                          Chad\n",
       "36                   Mozambique\n",
       "2                         Yemen\n",
       "5     Congo Democratic Republic\n",
       "40                       Zambia\n",
       "14                     Ethiopia\n",
       "37                  Timor-Leste\n",
       "17                      Burundi\n",
       "Name: Country, dtype: object"
      ]
     },
     "execution_count": 39,
     "metadata": {},
     "output_type": "execute_result"
    }
   ],
   "source": [
    "S1 = fsi_csv.sort_values(by=['S1: Demographic Pressures'], ascending=False)\n",
    "print(\"S1: Demographic Pressures\")\n",
    "S1['Country'].head(10)"
   ]
  },
  {
   "cell_type": "code",
   "execution_count": 40,
   "metadata": {},
   "outputs": [
    {
     "name": "stdout",
     "output_type": "stream",
     "text": [
      "S2: Refugees and IDPs\n"
     ]
    },
    {
     "data": {
      "text/plain": [
       "0                   South Sudan\n",
       "3                         Syria\n",
       "4      Central African Republic\n",
       "5     Congo Democratic Republic\n",
       "8                   Afghanistan\n",
       "1                       Somalia\n",
       "10                         Iraq\n",
       "2                         Yemen\n",
       "6                         Sudan\n",
       "7                          Chad\n",
       "Name: Country, dtype: object"
      ]
     },
     "execution_count": 40,
     "metadata": {},
     "output_type": "execute_result"
    }
   ],
   "source": [
    "S2 = fsi_csv.sort_values(by=['S2: Refugees and IDPs'], ascending=False)\n",
    "print(\"S2: Refugees and IDPs\")\n",
    "S2['Country'].head(10)"
   ]
  },
  {
   "cell_type": "code",
   "execution_count": 41,
   "metadata": {},
   "outputs": [
    {
     "name": "stdout",
     "output_type": "stream",
     "text": [
      "X1: External Intervention\n"
     ]
    },
    {
     "data": {
      "text/plain": [
       "24                         Libya\n",
       "2                          Yemen\n",
       "3                          Syria\n",
       "11                         Haiti\n",
       "27                   North Korea\n",
       "79                    Micronesia\n",
       "5      Congo Democratic Republic\n",
       "0                    South Sudan\n",
       "4       Central African Republic\n",
       "110                        Samoa\n",
       "Name: Country, dtype: object"
      ]
     },
     "execution_count": 41,
     "metadata": {},
     "output_type": "execute_result"
    }
   ],
   "source": [
    "X1 = fsi_csv.sort_values(by=['X1: External Intervention'], ascending=False)\n",
    "print(\"X1: External Intervention\")\n",
    "X1['Country'].head(10)"
   ]
  },
  {
   "cell_type": "code",
   "execution_count": null,
   "metadata": {},
   "outputs": [],
   "source": []
  }
 ],
 "metadata": {
  "kernelspec": {
   "display_name": "Python 3",
   "language": "python",
   "name": "python3"
  },
  "language_info": {
   "codemirror_mode": {
    "name": "ipython",
    "version": 3
   },
   "file_extension": ".py",
   "mimetype": "text/x-python",
   "name": "python",
   "nbconvert_exporter": "python",
   "pygments_lexer": "ipython3",
   "version": "3.6.5"
  }
 },
 "nbformat": 4,
 "nbformat_minor": 2
}

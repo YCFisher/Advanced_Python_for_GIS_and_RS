{
 "cells": [
  {
   "cell_type": "code",
   "execution_count": 1,
   "metadata": {},
   "outputs": [],
   "source": [
    "import pandas as pd"
   ]
  },
  {
   "cell_type": "code",
   "execution_count": 2,
   "metadata": {},
   "outputs": [
    {
     "data": {
      "text/html": [
       "<div>\n",
       "<style scoped>\n",
       "    .dataframe tbody tr th:only-of-type {\n",
       "        vertical-align: middle;\n",
       "    }\n",
       "\n",
       "    .dataframe tbody tr th {\n",
       "        vertical-align: top;\n",
       "    }\n",
       "\n",
       "    .dataframe thead th {\n",
       "        text-align: right;\n",
       "    }\n",
       "</style>\n",
       "<table border=\"1\" class=\"dataframe\">\n",
       "  <thead>\n",
       "    <tr style=\"text-align: right;\">\n",
       "      <th></th>\n",
       "      <th>Complaint</th>\n",
       "      <th>CodedMonth</th>\n",
       "      <th>DateOccur</th>\n",
       "      <th>FlagCrime</th>\n",
       "      <th>FlagUnfounded</th>\n",
       "      <th>FlagAdministrative</th>\n",
       "      <th>Count</th>\n",
       "      <th>FlagCleanup</th>\n",
       "      <th>Crime</th>\n",
       "      <th>District</th>\n",
       "      <th>Description</th>\n",
       "      <th>ILEADSAddress</th>\n",
       "      <th>ILEADSStreet</th>\n",
       "      <th>Neighborhood</th>\n",
       "      <th>LocationName</th>\n",
       "      <th>LocationComment</th>\n",
       "      <th>CADAddress</th>\n",
       "      <th>CADStreet</th>\n",
       "      <th>XCoord</th>\n",
       "      <th>YCoord</th>\n",
       "    </tr>\n",
       "  </thead>\n",
       "  <tbody>\n",
       "    <tr>\n",
       "      <th>0</th>\n",
       "      <td>18-030787</td>\n",
       "      <td>2018-07</td>\n",
       "      <td>01/01/2006 12:00</td>\n",
       "      <td>Y</td>\n",
       "      <td></td>\n",
       "      <td></td>\n",
       "      <td>1</td>\n",
       "      <td></td>\n",
       "      <td>115400</td>\n",
       "      <td>6</td>\n",
       "      <td>STLG BY DECEIT/IDENTITY THEFT REPORT</td>\n",
       "      <td>3800</td>\n",
       "      <td>N NEWSTEAD AVE</td>\n",
       "      <td>68</td>\n",
       "      <td></td>\n",
       "      <td></td>\n",
       "      <td>3800</td>\n",
       "      <td>NEWSTEAD</td>\n",
       "      <td>895638.1</td>\n",
       "      <td>1033127.0</td>\n",
       "    </tr>\n",
       "    <tr>\n",
       "      <th>1</th>\n",
       "      <td>18-030778</td>\n",
       "      <td>2018-07</td>\n",
       "      <td>01/01/2014 12:00</td>\n",
       "      <td>Y</td>\n",
       "      <td></td>\n",
       "      <td></td>\n",
       "      <td>1</td>\n",
       "      <td></td>\n",
       "      <td>115400</td>\n",
       "      <td>6</td>\n",
       "      <td>STLG BY DECEIT/IDENTITY THEFT REPORT</td>\n",
       "      <td>5052</td>\n",
       "      <td>PLOVER AVE</td>\n",
       "      <td>72</td>\n",
       "      <td></td>\n",
       "      <td></td>\n",
       "      <td>5052</td>\n",
       "      <td>PLOVER</td>\n",
       "      <td>890976.9</td>\n",
       "      <td>1042886.0</td>\n",
       "    </tr>\n",
       "    <tr>\n",
       "      <th>2</th>\n",
       "      <td>18-033335</td>\n",
       "      <td>2018-07</td>\n",
       "      <td>01/01/2015 12:00</td>\n",
       "      <td>Y</td>\n",
       "      <td></td>\n",
       "      <td></td>\n",
       "      <td>1</td>\n",
       "      <td></td>\n",
       "      <td>115400</td>\n",
       "      <td>6</td>\n",
       "      <td>STLG BY DECEIT/IDENTITY THEFT REPORT</td>\n",
       "      <td>8915</td>\n",
       "      <td>HALLS FERRY RD</td>\n",
       "      <td>74</td>\n",
       "      <td></td>\n",
       "      <td></td>\n",
       "      <td>8915</td>\n",
       "      <td>HALLS FERRY</td>\n",
       "      <td>894751.8</td>\n",
       "      <td>1050966.0</td>\n",
       "    </tr>\n",
       "    <tr>\n",
       "      <th>3</th>\n",
       "      <td>18-033321</td>\n",
       "      <td>2018-07</td>\n",
       "      <td>01/01/2017 12:00</td>\n",
       "      <td>Y</td>\n",
       "      <td></td>\n",
       "      <td></td>\n",
       "      <td>1</td>\n",
       "      <td></td>\n",
       "      <td>115400</td>\n",
       "      <td>6</td>\n",
       "      <td>STLG BY DECEIT/IDENTITY THEFT REPORT</td>\n",
       "      <td>4864</td>\n",
       "      <td>LEE AVE</td>\n",
       "      <td>69</td>\n",
       "      <td></td>\n",
       "      <td></td>\n",
       "      <td>4864</td>\n",
       "      <td>LEE</td>\n",
       "      <td>893100.3</td>\n",
       "      <td>1036196.0</td>\n",
       "    </tr>\n",
       "    <tr>\n",
       "      <th>4</th>\n",
       "      <td>18-033370</td>\n",
       "      <td>2018-07</td>\n",
       "      <td>01/01/2017 12:00</td>\n",
       "      <td>Y</td>\n",
       "      <td></td>\n",
       "      <td></td>\n",
       "      <td>1</td>\n",
       "      <td></td>\n",
       "      <td>115400</td>\n",
       "      <td>6</td>\n",
       "      <td>STLG BY DECEIT/IDENTITY THEFT REPORT</td>\n",
       "      <td>5115</td>\n",
       "      <td>ROBIN AVE</td>\n",
       "      <td>72</td>\n",
       "      <td></td>\n",
       "      <td></td>\n",
       "      <td>5115</td>\n",
       "      <td>ROBIN</td>\n",
       "      <td>890348.6</td>\n",
       "      <td>1043545.0</td>\n",
       "    </tr>\n",
       "  </tbody>\n",
       "</table>\n",
       "</div>"
      ],
      "text/plain": [
       "   Complaint CodedMonth         DateOccur FlagCrime FlagUnfounded  \\\n",
       "0  18-030787    2018-07  01/01/2006 12:00         Y                 \n",
       "1  18-030778    2018-07  01/01/2014 12:00         Y                 \n",
       "2  18-033335    2018-07  01/01/2015 12:00         Y                 \n",
       "3  18-033321    2018-07  01/01/2017 12:00         Y                 \n",
       "4  18-033370    2018-07  01/01/2017 12:00         Y                 \n",
       "\n",
       "  FlagAdministrative  Count FlagCleanup   Crime  District  \\\n",
       "0                         1              115400         6   \n",
       "1                         1              115400         6   \n",
       "2                         1              115400         6   \n",
       "3                         1              115400         6   \n",
       "4                         1              115400         6   \n",
       "\n",
       "                            Description ILEADSAddress    ILEADSStreet  \\\n",
       "0  STLG BY DECEIT/IDENTITY THEFT REPORT          3800  N NEWSTEAD AVE   \n",
       "1  STLG BY DECEIT/IDENTITY THEFT REPORT          5052      PLOVER AVE   \n",
       "2  STLG BY DECEIT/IDENTITY THEFT REPORT          8915  HALLS FERRY RD   \n",
       "3  STLG BY DECEIT/IDENTITY THEFT REPORT          4864         LEE AVE   \n",
       "4  STLG BY DECEIT/IDENTITY THEFT REPORT          5115       ROBIN AVE   \n",
       "\n",
       "   Neighborhood LocationName LocationComment CADAddress    CADStreet  \\\n",
       "0            68                                    3800     NEWSTEAD   \n",
       "1            72                                    5052       PLOVER   \n",
       "2            74                                    8915  HALLS FERRY   \n",
       "3            69                                    4864          LEE   \n",
       "4            72                                    5115        ROBIN   \n",
       "\n",
       "     XCoord     YCoord  \n",
       "0  895638.1  1033127.0  \n",
       "1  890976.9  1042886.0  \n",
       "2  894751.8  1050966.0  \n",
       "3  893100.3  1036196.0  \n",
       "4  890348.6  1043545.0  "
      ]
     },
     "execution_count": 2,
     "metadata": {},
     "output_type": "execute_result"
    }
   ],
   "source": [
    "crime_csv = pd. read_csv(\"July2018.CSV\")\n",
    "crime_csv.head()"
   ]
  },
  {
   "cell_type": "code",
   "execution_count": 3,
   "metadata": {},
   "outputs": [
    {
     "data": {
      "text/plain": [
       "4257"
      ]
     },
     "execution_count": 3,
     "metadata": {},
     "output_type": "execute_result"
    }
   ],
   "source": [
    "len(crime_csv)"
   ]
  },
  {
   "cell_type": "code",
   "execution_count": 4,
   "metadata": {},
   "outputs": [
    {
     "data": {
      "text/plain": [
       "'18-030787'"
      ]
     },
     "execution_count": 4,
     "metadata": {},
     "output_type": "execute_result"
    }
   ],
   "source": [
    "crime_csv.at[0, 'Complaint']"
   ]
  },
  {
   "cell_type": "code",
   "execution_count": 7,
   "metadata": {},
   "outputs": [
    {
     "data": {
      "text/plain": [
       "Index(['Complaint', 'CodedMonth', 'DateOccur', 'FlagCrime', 'FlagUnfounded',\n",
       "       'FlagAdministrative', 'Count', 'FlagCleanup', 'Crime', 'District',\n",
       "       'Description', 'ILEADSAddress', 'ILEADSStreet', 'Neighborhood',\n",
       "       'LocationName', 'LocationComment', 'CADAddress', 'CADStreet', 'XCoord',\n",
       "       'YCoord'],\n",
       "      dtype='object')"
      ]
     },
     "execution_count": 7,
     "metadata": {},
     "output_type": "execute_result"
    }
   ],
   "source": [
    "columns = crime_csv.columns\n",
    "columns"
   ]
  },
  {
   "cell_type": "code",
   "execution_count": 6,
   "metadata": {},
   "outputs": [
    {
     "data": {
      "text/plain": [
       "0        True\n",
       "1        True\n",
       "2        True\n",
       "3        True\n",
       "4        True\n",
       "5        True\n",
       "6        True\n",
       "7        True\n",
       "8        True\n",
       "9        True\n",
       "10       True\n",
       "11       True\n",
       "12       True\n",
       "13       True\n",
       "14      False\n",
       "15       True\n",
       "16       True\n",
       "17       True\n",
       "18       True\n",
       "19       True\n",
       "20      False\n",
       "21       True\n",
       "22       True\n",
       "23       True\n",
       "24       True\n",
       "25       True\n",
       "26       True\n",
       "27      False\n",
       "28       True\n",
       "29      False\n",
       "        ...  \n",
       "4227     True\n",
       "4228     True\n",
       "4229     True\n",
       "4230     True\n",
       "4231     True\n",
       "4232     True\n",
       "4233     True\n",
       "4234     True\n",
       "4235     True\n",
       "4236     True\n",
       "4237     True\n",
       "4238     True\n",
       "4239     True\n",
       "4240     True\n",
       "4241     True\n",
       "4242     True\n",
       "4243     True\n",
       "4244    False\n",
       "4245     True\n",
       "4246     True\n",
       "4247     True\n",
       "4248     True\n",
       "4249     True\n",
       "4250    False\n",
       "4251    False\n",
       "4252     True\n",
       "4253    False\n",
       "4254     True\n",
       "4255     True\n",
       "4256     True\n",
       "Name: XCoord, Length: 4257, dtype: bool"
      ]
     },
     "execution_count": 6,
     "metadata": {},
     "output_type": "execute_result"
    }
   ],
   "source": [
    "crime_csv['XCoord'] !=0"
   ]
  },
  {
   "cell_type": "code",
   "execution_count": 8,
   "metadata": {},
   "outputs": [],
   "source": [
    "import arcgis\n",
    "from arcgis.features import SpatialDataFrame"
   ]
  },
  {
   "cell_type": "code",
   "execution_count": 10,
   "metadata": {},
   "outputs": [
    {
     "name": "stdout",
     "output_type": "stream",
     "text": [
      "Enter password: ········\n"
     ]
    }
   ],
   "source": [
    "from arcgis.gis import GIS\n",
    "gis = GIS(\"http://slustl.maps.arcgis.com/home\", \"cuaycongy_SLUSTL\")"
   ]
  },
  {
   "cell_type": "code",
   "execution_count": null,
   "metadata": {},
   "outputs": [],
   "source": []
  }
 ],
 "metadata": {
  "kernelspec": {
   "display_name": "Python 3",
   "language": "python",
   "name": "python3"
  },
  "language_info": {
   "codemirror_mode": {
    "name": "ipython",
    "version": 3
   },
   "file_extension": ".py",
   "mimetype": "text/x-python",
   "name": "python",
   "nbconvert_exporter": "python",
   "pygments_lexer": "ipython3",
   "version": "3.6.5"
  }
 },
 "nbformat": 4,
 "nbformat_minor": 2
}

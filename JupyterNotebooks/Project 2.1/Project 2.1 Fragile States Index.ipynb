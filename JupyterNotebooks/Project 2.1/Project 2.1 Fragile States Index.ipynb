{
 "cells": [
  {
   "cell_type": "markdown",
   "metadata": {},
   "source": [
    "1) Import all necessary functions"
   ]
  },
  {
   "cell_type": "code",
   "execution_count": 120,
   "metadata": {},
   "outputs": [],
   "source": [
    "from arcgis.gis import GIS\n",
    "from arcgis.geocoding import Geocoder, get_geocoders\n",
    "from IPython.display import display\n",
    "import pandas as pd\n",
    "from arcgis.features import FeatureLayer"
   ]
  },
  {
   "cell_type": "markdown",
   "metadata": {},
   "source": [
    "2) Include ArcGIS sigin"
   ]
  },
  {
   "cell_type": "code",
   "execution_count": 2,
   "metadata": {},
   "outputs": [
    {
     "name": "stdout",
     "output_type": "stream",
     "text": [
      "Enter password: ········\n"
     ]
    }
   ],
   "source": [
    "gis = GIS(\"http://slustl.maps.arcgis.com/home\", \"cuaycongy_SLUSTL\")"
   ]
  },
  {
   "cell_type": "markdown",
   "metadata": {},
   "source": [
    "3) Identify the data that will be used to create the feature layer"
   ]
  },
  {
   "cell_type": "code",
   "execution_count": 4,
   "metadata": {},
   "outputs": [],
   "source": [
    "csv_2006 = \"2006.csv\"\n",
    "csv_2007 = \"2007.csv\"\n",
    "csv_2008 = \"2008.csv\"\n",
    "csv_2009 = \"2009.csv\"\n",
    "csv_2010 = \"2010.csv\"\n",
    "csv_2011 = \"2011.csv\"\n",
    "csv_2012 = \"2012.csv\"\n",
    "csv_2013 = \"2013.csv\"\n",
    "csv_2014 = \"2014.csv\"\n",
    "csv_2015 = \"2015.csv\"\n",
    "csv_2016 = \"2016.csv\"\n",
    "csv_2017 = \"2017.csv\"\n",
    "csv_2018 = \"2018.csv\""
   ]
  },
  {
   "cell_type": "markdown",
   "metadata": {},
   "source": [
    "4) Create list for csv data"
   ]
  },
  {
   "cell_type": "code",
   "execution_count": 7,
   "metadata": {},
   "outputs": [],
   "source": [
    "csv_list = csv_2006, csv_2007, csv_2008, csv_2009, csv_2010, csv_2011, csv_2012, csv_2013, csv_2014, csv_2015, csv_2016, csv_2017, csv_2018"
   ]
  },
  {
   "cell_type": "markdown",
   "metadata": {},
   "source": [
    "5) Import csv data and create feature layers. Identify coordinates/location within data for this example location = Country"
   ]
  },
  {
   "cell_type": "code",
   "execution_count": 17,
   "metadata": {},
   "outputs": [
    {
     "name": "stdout",
     "output_type": "stream",
     "text": [
      "Done\n"
     ]
    }
   ],
   "source": [
    "for csv in csv_list:\n",
    "    csv_content = gis.content.add({}, csv)\n",
    "    layers = csv_content.publish(None, {\"Address\":\"Country\"})\n",
    "print(\"Done\")"
   ]
  },
  {
   "cell_type": "markdown",
   "metadata": {},
   "source": [
    "6) Identify layers"
   ]
  },
  {
   "cell_type": "code",
   "execution_count": 60,
   "metadata": {},
   "outputs": [
    {
     "data": {
      "text/plain": [
       "[<Item title:\"St. Louis Streets YCF\" type:Feature Layer Collection owner:cuaycongy_SLUSTL>,\n",
       " <Item title:\"St. Louis Neighborhood Data YCF\" type:Feature Layer Collection owner:cuaycongy_SLUSTL>,\n",
       " <Item title:\"St. Louis Boundary GJB\" type:Feature Layer Collection owner:cuaycongy_SLUSTL>,\n",
       " <Item title:\"2009\" type:Feature Layer Collection owner:cuaycongy_SLUSTL>,\n",
       " <Item title:\"2012\" type:Feature Layer Collection owner:cuaycongy_SLUSTL>,\n",
       " <Item title:\"2017\" type:Feature Layer Collection owner:cuaycongy_SLUSTL>,\n",
       " <Item title:\"2018\" type:Feature Layer Collection owner:cuaycongy_SLUSTL>,\n",
       " <Item title:\"2007\" type:Feature Layer Collection owner:cuaycongy_SLUSTL>,\n",
       " <Item title:\"2015\" type:Feature Layer Collection owner:cuaycongy_SLUSTL>,\n",
       " <Item title:\"2011\" type:Feature Layer Collection owner:cuaycongy_SLUSTL>,\n",
       " <Item title:\"National Rainfall Data YCF\" type:Feature Layer Collection owner:cuaycongy_SLUSTL>,\n",
       " <Item title:\"St. Louis Crime Data YCF\" type:Feature Layer Collection owner:cuaycongy_SLUSTL>,\n",
       " <Item title:\"2008\" type:Feature Layer Collection owner:cuaycongy_SLUSTL>,\n",
       " <Item title:\"2006\" type:Feature Layer Collection owner:cuaycongy_SLUSTL>,\n",
       " <Item title:\"2014\" type:Feature Layer Collection owner:cuaycongy_SLUSTL>,\n",
       " <Item title:\"chennai-rainfall(1)\" type:Feature Layer Collection owner:cuaycongy_SLUSTL>,\n",
       " <Item title:\"2010\" type:Feature Layer Collection owner:cuaycongy_SLUSTL>,\n",
       " <Item title:\"Thunder_Acquisitions_YCF\" type:Feature Layer Collection owner:cuaycongy_SLUSTL>,\n",
       " <Item title:\"2016\" type:Feature Layer Collection owner:cuaycongy_SLUSTL>,\n",
       " <Item title:\"2013\" type:Feature Layer Collection owner:cuaycongy_SLUSTL>]"
      ]
     },
     "execution_count": 60,
     "metadata": {},
     "output_type": "execute_result"
    }
   ],
   "source": [
    "shared_layers = gis.content.search(\"owner: cuaycongy_SLUSTL\", item_type=\"feature service\", max_items=20)\n",
    "shared_layers"
   ]
  },
  {
   "cell_type": "code",
   "execution_count": 80,
   "metadata": {},
   "outputs": [
    {
     "data": {
      "text/plain": [
       "(<Item title:\"2006\" type:Feature Layer Collection owner:cuaycongy_SLUSTL>,\n",
       " <Item title:\"2007\" type:Feature Layer Collection owner:cuaycongy_SLUSTL>,\n",
       " <Item title:\"2008\" type:Feature Layer Collection owner:cuaycongy_SLUSTL>,\n",
       " <Item title:\"2009\" type:Feature Layer Collection owner:cuaycongy_SLUSTL>,\n",
       " <Item title:\"2010\" type:Feature Layer Collection owner:cuaycongy_SLUSTL>,\n",
       " <Item title:\"2011\" type:Feature Layer Collection owner:cuaycongy_SLUSTL>,\n",
       " <Item title:\"2012\" type:Feature Layer Collection owner:cuaycongy_SLUSTL>,\n",
       " <Item title:\"2013\" type:Feature Layer Collection owner:cuaycongy_SLUSTL>,\n",
       " <Item title:\"2014\" type:Feature Layer Collection owner:cuaycongy_SLUSTL>,\n",
       " <Item title:\"2015\" type:Feature Layer Collection owner:cuaycongy_SLUSTL>,\n",
       " <Item title:\"2016\" type:Feature Layer Collection owner:cuaycongy_SLUSTL>,\n",
       " <Item title:\"2017\" type:Feature Layer Collection owner:cuaycongy_SLUSTL>,\n",
       " <Item title:\"2018\" type:Feature Layer Collection owner:cuaycongy_SLUSTL>)"
      ]
     },
     "execution_count": 80,
     "metadata": {},
     "output_type": "execute_result"
    }
   ],
   "source": [
    "all_layers = shared_layers[13], shared_layers[7], shared_layers[12], shared_layers[3], shared_layers[16], shared_layers[9], shared_layers[4], shared_layers[19], shared_layers[14], shared_layers[8], shared_layers[18], shared_layers[5], shared_layers[6]\n",
    "all_layers"
   ]
  },
  {
   "cell_type": "markdown",
   "metadata": {},
   "source": [
    "7) Define layer renderer"
   ]
  },
  {
   "cell_type": "code",
   "execution_count": 114,
   "metadata": {},
   "outputs": [],
   "source": [
    "simple_renderer = {\n",
    "  \"renderer\": {\n",
    "    \"type\": \"simple\",\n",
    "    \"symbol\": {\n",
    "      \"color\": [\n",
    "        20,\n",
    "        200,\n",
    "        128,\n",
    "        100\n",
    "      ],\n",
    "      \"size\": 12,\n",
    "      \"angle\": 0,\n",
    "      \"xoffset\": 0,\n",
    "      \"yoffset\": 0,\n",
    "      \"type\": \"esriSMS\",\n",
    "      \"field\": \"Total\",\n",
    "      \"style\": \"esriSMSCircle\",\n",
    "      \"outline\": {\n",
    "        \"color\": [\n",
    "          10,\n",
    "          75,\n",
    "          128,\n",
    "          100\n",
    "        ],\n",
    "        \"width\": 0.99975,\n",
    "        \"type\": \"esriSLS\",\n",
    "        \"style\": \"esriSLSSolid\"\n",
    "      }\n",
    "    }\n",
    "  }\n",
    "}"
   ]
  },
  {
   "cell_type": "markdown",
   "metadata": {},
   "source": [
    "8) Create map and add layers"
   ]
  },
  {
   "cell_type": "code",
   "execution_count": 104,
   "metadata": {},
   "outputs": [
    {
     "data": {
      "application/vnd.jupyter.widget-view+json": {
       "model_id": "fad050e714db4c8abf32cca75ba572db",
       "version_major": 2,
       "version_minor": 0
      },
      "text/plain": [
       "MapView(basemaps=['dark-gray', 'dark-gray-vector', 'gray', 'gray-vector', 'hybrid', 'national-geographic', 'oc…"
      ]
     },
     "metadata": {},
     "output_type": "display_data"
    }
   ],
   "source": [
    "map1 = gis.map(\"USA\", 1)\n",
    "map1.add_layer(all_layers[0],{\"renderer\":\"ClassedSizeRenderer\", \"field_name\":\"Total\"})\n",
    "map1.add_layer(all_layers[1],{\"renderer\":\"ClassedSizeRenderer\", \"field_name\":\"Total\"})\n",
    "map1.add_layer(all_layers[2],{\"renderer\":\"ClassedSizeRenderer\", \"field_name\":\"Total\"})\n",
    "map1.add_layer(all_layers[3],{\"renderer\":\"ClassedSizeRenderer\", \"field_name\":\"Total\"})\n",
    "map1.add_layer(all_layers[4],{\"renderer\":\"ClassedSizeRenderer\", \"field_name\":\"Total\"})\n",
    "map1.add_layer(all_layers[5],{\"renderer\":\"ClassedSizeRenderer\", \"field_name\":\"Total\"})\n",
    "map1.add_layer(all_layers[6],{\"renderer\":\"ClassedSizeRenderer\", \"field_name\":\"Total\"})\n",
    "map1.add_layer(all_layers[7],{\"renderer\":\"ClassedSizeRenderer\", \"field_name\":\"Total\"})\n",
    "map1.add_layer(all_layers[8],{\"renderer\":\"ClassedSizeRenderer\", \"field_name\":\"Total\"})\n",
    "map1.add_layer(all_layers[9],{\"renderer\":\"ClassedSizeRenderer\", \"field_name\":\"Total\"})\n",
    "map1.add_layer(all_layers[10],{\"renderer\":\"ClassedSizeRenderer\", \"field_name\":\"Total\"})\n",
    "map1.add_layer(all_layers[11],{\"renderer\":\"ClassedSizeRenderer\", \"field_name\":\"Total\"})\n",
    "map1.add_layer(all_layers[12],{\"renderer\":\"ClassedSizeRenderer\", \"field_name\":\"Total\"})\n",
    "map1"
   ]
  },
  {
   "cell_type": "markdown",
   "metadata": {},
   "source": [
    "9) Save webmap"
   ]
  },
  {
   "cell_type": "code",
   "execution_count": 101,
   "metadata": {},
   "outputs": [
    {
     "ename": "IndexError",
     "evalue": "list index out of range",
     "output_type": "error",
     "traceback": [
      "\u001b[1;31m---------------------------------------------------------------------------\u001b[0m",
      "\u001b[1;31mIndexError\u001b[0m                                Traceback (most recent call last)",
      "\u001b[1;32m<ipython-input-101-308ab3aef4ba>\u001b[0m in \u001b[0;36m<module>\u001b[1;34m()\u001b[0m\n\u001b[0;32m      1\u001b[0m \u001b[0mwebmap_properties\u001b[0m \u001b[1;33m=\u001b[0m \u001b[1;33m{\u001b[0m\u001b[1;34m'title'\u001b[0m\u001b[1;33m:\u001b[0m\u001b[1;34m'Project 2.1 Fragile States Index'\u001b[0m\u001b[1;33m}\u001b[0m\u001b[1;33m\u001b[0m\u001b[0m\n\u001b[1;32m----> 2\u001b[1;33m \u001b[0mmap1\u001b[0m\u001b[1;33m.\u001b[0m\u001b[0msave\u001b[0m\u001b[1;33m(\u001b[0m\u001b[0mwebmap_properties\u001b[0m\u001b[1;33m)\u001b[0m\u001b[1;33m\u001b[0m\u001b[0m\n\u001b[0m",
      "\u001b[1;32mC:\\Program Files\\ArcGIS\\Pro\\bin\\Python\\envs\\arcgispro-py3\\lib\\site-packages\\arcgis\\widgets\\__init__.py\u001b[0m in \u001b[0;36msave\u001b[1;34m(self, item_properties, thumbnail, metadata, owner, folder)\u001b[0m\n\u001b[0;32m    757\u001b[0m         \u001b[1;31m# process smart mapping\u001b[0m\u001b[1;33m\u001b[0m\u001b[1;33m\u001b[0m\u001b[0m\n\u001b[0;32m    758\u001b[0m         \u001b[1;32mif\u001b[0m \u001b[0mself\u001b[0m\u001b[1;33m.\u001b[0m\u001b[0m_smartmapping_layer_list\u001b[0m\u001b[1;33m:\u001b[0m\u001b[1;33m\u001b[0m\u001b[0m\n\u001b[1;32m--> 759\u001b[1;33m             \u001b[0mself\u001b[0m\u001b[1;33m.\u001b[0m\u001b[0m_process_smart_mapping\u001b[0m\u001b[1;33m(\u001b[0m\u001b[1;33m)\u001b[0m\u001b[1;33m\u001b[0m\u001b[0m\n\u001b[0m\u001b[0;32m    760\u001b[0m \u001b[1;33m\u001b[0m\u001b[0m\n\u001b[0;32m    761\u001b[0m         \u001b[1;31m# update the basemap\u001b[0m\u001b[1;33m\u001b[0m\u001b[1;33m\u001b[0m\u001b[0m\n",
      "\u001b[1;32mC:\\Program Files\\ArcGIS\\Pro\\bin\\Python\\envs\\arcgispro-py3\\lib\\site-packages\\arcgis\\widgets\\__init__.py\u001b[0m in \u001b[0;36m_process_smart_mapping\u001b[1;34m(self)\u001b[0m\n\u001b[0;32m    657\u001b[0m             \u001b[1;32mtry\u001b[0m\u001b[1;33m:\u001b[0m\u001b[1;33m\u001b[0m\u001b[0m\n\u001b[0;32m    658\u001b[0m                 \u001b[0msm_layer_index\u001b[0m \u001b[1;33m=\u001b[0m \u001b[0mself\u001b[0m\u001b[1;33m.\u001b[0m\u001b[0m_widget_layer_list\u001b[0m\u001b[1;33m.\u001b[0m\u001b[0mindex\u001b[0m\u001b[1;33m(\u001b[0m\u001b[0mlyr\u001b[0m\u001b[1;33m)\u001b[0m\u001b[1;33m\u001b[0m\u001b[0m\n\u001b[1;32m--> 659\u001b[1;33m                 \u001b[0mjs_sm_layer\u001b[0m \u001b[1;33m=\u001b[0m \u001b[0mjs_layers_parsed\u001b[0m\u001b[1;33m[\u001b[0m\u001b[0msm_layer_index\u001b[0m\u001b[1;33m]\u001b[0m\u001b[1;33m\u001b[0m\u001b[0m\n\u001b[0m\u001b[0;32m    660\u001b[0m                 \u001b[0mwm_sm_layer\u001b[0m \u001b[1;33m=\u001b[0m \u001b[0mself\u001b[0m\u001b[1;33m.\u001b[0m\u001b[0m_webmap\u001b[0m\u001b[1;33m.\u001b[0m\u001b[0m_webmapdict\u001b[0m\u001b[1;33m[\u001b[0m\u001b[1;34m'operationalLayers'\u001b[0m\u001b[1;33m]\u001b[0m\u001b[1;33m[\u001b[0m\u001b[0msm_layer_index\u001b[0m\u001b[1;33m]\u001b[0m\u001b[1;33m\u001b[0m\u001b[0m\n\u001b[0;32m    661\u001b[0m \u001b[1;33m\u001b[0m\u001b[0m\n",
      "\u001b[1;31mIndexError\u001b[0m: list index out of range"
     ]
    }
   ],
   "source": [
    "webmap_properties = {'title':'Project 2.1 Fragile States Index',\n",
    "                     'snippet':'Webmap',\n",
    "                     'tags':['FSI']}\n",
    "map1.save(webmap_properties)"
   ]
  },
  {
   "cell_type": "markdown",
   "metadata": {},
   "source": [
    "10) Share webmap"
   ]
  },
  {
   "cell_type": "code",
   "execution_count": null,
   "metadata": {},
   "outputs": [],
   "source": [
    "webmap.share(org=True)"
   ]
  },
  {
   "cell_type": "code",
   "execution_count": 118,
   "metadata": {},
   "outputs": [
    {
     "data": {
      "application/vnd.jupyter.widget-view+json": {
       "model_id": "fb6897874d774c1c82fb4f5b6defc5c1",
       "version_major": 2,
       "version_minor": 0
      },
      "text/plain": [
       "MapView(basemaps=['dark-gray', 'dark-gray-vector', 'gray', 'gray-vector', 'hybrid', 'national-geographic', 'oc…"
      ]
     },
     "metadata": {},
     "output_type": "display_data"
    }
   ],
   "source": [
    "map2 = gis.map(\"USA\", 1)\n",
    "map2.add_layer(all_layers[1],{\"renderer\":\"ClassedSizeRenderer\", \"field_name\":\"Total\"})\n",
    "map2.add_layer(all_layers[2],{\"renderer\":\"ClassedSizeRenderer\", \"field_name\":\"Total\"})\n",
    "map2"
   ]
  },
  {
   "cell_type": "code",
   "execution_count": 121,
   "metadata": {},
   "outputs": [
    {
     "ename": "IndexError",
     "evalue": "list index out of range",
     "output_type": "error",
     "traceback": [
      "\u001b[1;31m---------------------------------------------------------------------------\u001b[0m",
      "\u001b[1;31mIndexError\u001b[0m                                Traceback (most recent call last)",
      "\u001b[1;32m<ipython-input-121-42ce45b79e23>\u001b[0m in \u001b[0;36m<module>\u001b[1;34m()\u001b[0m\n\u001b[0;32m      2\u001b[0m                      \u001b[1;34m'snippet'\u001b[0m\u001b[1;33m:\u001b[0m\u001b[1;34m'Webmap'\u001b[0m\u001b[1;33m,\u001b[0m\u001b[1;33m\u001b[0m\u001b[0m\n\u001b[0;32m      3\u001b[0m                      'tags':['FSI']}\n\u001b[1;32m----> 4\u001b[1;33m \u001b[0mmap2\u001b[0m\u001b[1;33m.\u001b[0m\u001b[0msave\u001b[0m\u001b[1;33m(\u001b[0m\u001b[0mwebmap_properties\u001b[0m\u001b[1;33m)\u001b[0m\u001b[1;33m\u001b[0m\u001b[0m\n\u001b[0m",
      "\u001b[1;32mC:\\Program Files\\ArcGIS\\Pro\\bin\\Python\\envs\\arcgispro-py3\\lib\\site-packages\\arcgis\\widgets\\__init__.py\u001b[0m in \u001b[0;36msave\u001b[1;34m(self, item_properties, thumbnail, metadata, owner, folder)\u001b[0m\n\u001b[0;32m    757\u001b[0m         \u001b[1;31m# process smart mapping\u001b[0m\u001b[1;33m\u001b[0m\u001b[1;33m\u001b[0m\u001b[0m\n\u001b[0;32m    758\u001b[0m         \u001b[1;32mif\u001b[0m \u001b[0mself\u001b[0m\u001b[1;33m.\u001b[0m\u001b[0m_smartmapping_layer_list\u001b[0m\u001b[1;33m:\u001b[0m\u001b[1;33m\u001b[0m\u001b[0m\n\u001b[1;32m--> 759\u001b[1;33m             \u001b[0mself\u001b[0m\u001b[1;33m.\u001b[0m\u001b[0m_process_smart_mapping\u001b[0m\u001b[1;33m(\u001b[0m\u001b[1;33m)\u001b[0m\u001b[1;33m\u001b[0m\u001b[0m\n\u001b[0m\u001b[0;32m    760\u001b[0m \u001b[1;33m\u001b[0m\u001b[0m\n\u001b[0;32m    761\u001b[0m         \u001b[1;31m# update the basemap\u001b[0m\u001b[1;33m\u001b[0m\u001b[1;33m\u001b[0m\u001b[0m\n",
      "\u001b[1;32mC:\\Program Files\\ArcGIS\\Pro\\bin\\Python\\envs\\arcgispro-py3\\lib\\site-packages\\arcgis\\widgets\\__init__.py\u001b[0m in \u001b[0;36m_process_smart_mapping\u001b[1;34m(self)\u001b[0m\n\u001b[0;32m    657\u001b[0m             \u001b[1;32mtry\u001b[0m\u001b[1;33m:\u001b[0m\u001b[1;33m\u001b[0m\u001b[0m\n\u001b[0;32m    658\u001b[0m                 \u001b[0msm_layer_index\u001b[0m \u001b[1;33m=\u001b[0m \u001b[0mself\u001b[0m\u001b[1;33m.\u001b[0m\u001b[0m_widget_layer_list\u001b[0m\u001b[1;33m.\u001b[0m\u001b[0mindex\u001b[0m\u001b[1;33m(\u001b[0m\u001b[0mlyr\u001b[0m\u001b[1;33m)\u001b[0m\u001b[1;33m\u001b[0m\u001b[0m\n\u001b[1;32m--> 659\u001b[1;33m                 \u001b[0mjs_sm_layer\u001b[0m \u001b[1;33m=\u001b[0m \u001b[0mjs_layers_parsed\u001b[0m\u001b[1;33m[\u001b[0m\u001b[0msm_layer_index\u001b[0m\u001b[1;33m]\u001b[0m\u001b[1;33m\u001b[0m\u001b[0m\n\u001b[0m\u001b[0;32m    660\u001b[0m                 \u001b[0mwm_sm_layer\u001b[0m \u001b[1;33m=\u001b[0m \u001b[0mself\u001b[0m\u001b[1;33m.\u001b[0m\u001b[0m_webmap\u001b[0m\u001b[1;33m.\u001b[0m\u001b[0m_webmapdict\u001b[0m\u001b[1;33m[\u001b[0m\u001b[1;34m'operationalLayers'\u001b[0m\u001b[1;33m]\u001b[0m\u001b[1;33m[\u001b[0m\u001b[0msm_layer_index\u001b[0m\u001b[1;33m]\u001b[0m\u001b[1;33m\u001b[0m\u001b[0m\n\u001b[0;32m    661\u001b[0m \u001b[1;33m\u001b[0m\u001b[0m\n",
      "\u001b[1;31mIndexError\u001b[0m: list index out of range"
     ]
    }
   ],
   "source": [
    "webmap_properties = {'title':'Project 2.1 Fragile States Index',\n",
    "                     'snippet':'Webmap',\n",
    "                     'tags':['FSI']}\n",
    "map2.save(webmap_properties)"
   ]
  },
  {
   "cell_type": "code",
   "execution_count": null,
   "metadata": {},
   "outputs": [],
   "source": [
    "= {\"renderer\":\"ClassedColorRenderer\",\"field_name\": \"FATALITIES\"}"
   ]
  },
  {
   "cell_type": "code",
   "execution_count": 123,
   "metadata": {},
   "outputs": [
    {
     "name": "stdout",
     "output_type": "stream",
     "text": [
      "Feature Serices: St. Louis Boundary GJB\n",
      "Feature Serices: St. Louis Streets YCF\n",
      "Feature Serices: National Rainfall Data YCF\n",
      "Feature Serices: St. Louis Crime Data YCF\n",
      "Feature Serices: St. Louis Neighborhood Data YCF\n",
      "Feature Serices: 2006\n",
      "Feature Serices: 2007\n",
      "Feature Serices: 2008\n",
      "Feature Serices: 2009\n",
      "Feature Serices: 2010\n",
      "Feature Serices: 2011\n",
      "Feature Serices: 2012\n",
      "Feature Serices: 2013\n",
      "Feature Serices: 2014\n",
      "Feature Serices: 2015\n",
      "Feature Serices: 2016\n",
      "Feature Serices: 2017\n",
      "Feature Serices: 2018\n"
     ]
    }
   ],
   "source": [
    "me = gis.users.me\n",
    "for item in gis.users.me.items():\n",
    "    if item.type == \"Feature Service\":\n",
    "        print(\"Feature Serices: \" + item.title)"
   ]
  },
  {
   "cell_type": "code",
   "execution_count": null,
   "metadata": {},
   "outputs": [],
   "source": []
  }
 ],
 "metadata": {
  "kernelspec": {
   "display_name": "Python 3",
   "language": "python",
   "name": "python3"
  },
  "language_info": {
   "codemirror_mode": {
    "name": "ipython",
    "version": 3
   },
   "file_extension": ".py",
   "mimetype": "text/x-python",
   "name": "python",
   "nbconvert_exporter": "python",
   "pygments_lexer": "ipython3",
   "version": "3.6.5"
  }
 },
 "nbformat": 4,
 "nbformat_minor": 2
}

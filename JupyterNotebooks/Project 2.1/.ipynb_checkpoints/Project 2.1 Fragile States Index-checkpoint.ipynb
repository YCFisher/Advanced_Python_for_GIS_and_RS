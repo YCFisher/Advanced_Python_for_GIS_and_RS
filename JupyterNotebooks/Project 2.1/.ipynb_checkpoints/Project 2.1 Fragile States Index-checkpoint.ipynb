{
 "cells": [
  {
   "cell_type": "markdown",
   "metadata": {},
   "source": [
    "1) Import all necessary functions"
   ]
  },
  {
   "cell_type": "code",
   "execution_count": 2,
   "metadata": {},
   "outputs": [],
   "source": [
    "from arcgis.gis import GIS\n",
    "from arcgis.geocoding import Geocoder, get_geocoders\n",
    "from IPython.display import display\n",
    "import pandas as pd\n",
    "from arcgis.features import FeatureLayer"
   ]
  },
  {
   "cell_type": "markdown",
   "metadata": {},
   "source": [
    "2) Include ArcGIS sigin"
   ]
  },
  {
   "cell_type": "code",
   "execution_count": 3,
   "metadata": {},
   "outputs": [
    {
     "name": "stdout",
     "output_type": "stream",
     "text": [
      "Enter password: ········\n"
     ]
    }
   ],
   "source": [
    "gis = GIS(\"http://slustl.maps.arcgis.com/home\", \"cuaycongy_SLUSTL\")"
   ]
  },
  {
   "cell_type": "markdown",
   "metadata": {},
   "source": [
    "3) Identify the data that will be used to create the feature layer"
   ]
  },
  {
   "cell_type": "code",
   "execution_count": 5,
   "metadata": {},
   "outputs": [],
   "source": [
    "csv_2006 = \"2006.csv\"\n",
    "csv_2007 = \"2007.csv\"\n",
    "csv_2008 = \"2008.csv\"\n",
    "csv_2009 = \"2009.csv\"\n",
    "csv_2010 = \"2010.csv\"\n",
    "csv_2011 = \"2011.csv\"\n",
    "csv_2012 = \"2012.csv\"\n",
    "csv_2013 = \"2013.csv\"\n",
    "csv_2014 = \"2014.csv\"\n",
    "csv_2015 = \"2015.csv\"\n",
    "csv_2016 = \"2016.csv\"\n",
    "csv_2017 = \"2017.csv\"\n",
    "csv_2018 = \"2018.csv\""
   ]
  },
  {
   "cell_type": "markdown",
   "metadata": {},
   "source": [
    "4) Create list for csv data"
   ]
  },
  {
   "cell_type": "code",
   "execution_count": 6,
   "metadata": {},
   "outputs": [],
   "source": [
    "csv_list = csv_2006, csv_2007, csv_2008, csv_2009, csv_2010, csv_2011, csv_2012, csv_2013, csv_2014, csv_2015, csv_2016, csv_2017, csv_2018"
   ]
  },
  {
   "cell_type": "markdown",
   "metadata": {},
   "source": [
    "5) Import csv data and create feature layers. Identify coordinates/location within data for this example location = Country"
   ]
  },
  {
   "cell_type": "code",
   "execution_count": 17,
   "metadata": {},
   "outputs": [
    {
     "name": "stdout",
     "output_type": "stream",
     "text": [
      "Done\n"
     ]
    }
   ],
   "source": [
    "for csv in csv_list:\n",
    "    csv_content = gis.content.add({}, csv)\n",
    "    layers = csv_content.publish(None, {\"Address\":\"Country\"})\n",
    "print(\"Done\")"
   ]
  },
  {
   "cell_type": "markdown",
   "metadata": {},
   "source": [
    "6) Identify layers"
   ]
  },
  {
   "cell_type": "code",
   "execution_count": 9,
   "metadata": {},
   "outputs": [
    {
     "data": {
      "text/plain": [
       "[<Item title:\"St. Louis Streets YCF\" type:Feature Layer Collection owner:cuaycongy_SLUSTL>,\n",
       " <Item title:\"St. Louis Neighborhood Data YCF\" type:Feature Layer Collection owner:cuaycongy_SLUSTL>,\n",
       " <Item title:\"St. Louis Boundary GJB\" type:Feature Layer Collection owner:cuaycongy_SLUSTL>,\n",
       " <Item title:\"2009\" type:Feature Layer Collection owner:cuaycongy_SLUSTL>,\n",
       " <Item title:\"2012\" type:Feature Layer Collection owner:cuaycongy_SLUSTL>,\n",
       " <Item title:\"2007\" type:Feature Layer Collection owner:cuaycongy_SLUSTL>,\n",
       " <Item title:\"2015\" type:Feature Layer Collection owner:cuaycongy_SLUSTL>,\n",
       " <Item title:\"2011\" type:Feature Layer Collection owner:cuaycongy_SLUSTL>,\n",
       " <Item title:\"2017\" type:Feature Layer Collection owner:cuaycongy_SLUSTL>,\n",
       " <Item title:\"2018\" type:Feature Layer Collection owner:cuaycongy_SLUSTL>,\n",
       " <Item title:\"2008\" type:Feature Layer Collection owner:cuaycongy_SLUSTL>,\n",
       " <Item title:\"National Rainfall Data YCF\" type:Feature Layer Collection owner:cuaycongy_SLUSTL>,\n",
       " <Item title:\"St. Louis Crime Data YCF\" type:Feature Layer Collection owner:cuaycongy_SLUSTL>,\n",
       " <Item title:\"2006\" type:Feature Layer Collection owner:cuaycongy_SLUSTL>,\n",
       " <Item title:\"2014\" type:Feature Layer Collection owner:cuaycongy_SLUSTL>,\n",
       " <Item title:\"chennai-rainfall(1)\" type:Feature Layer Collection owner:cuaycongy_SLUSTL>,\n",
       " <Item title:\"2010\" type:Feature Layer Collection owner:cuaycongy_SLUSTL>,\n",
       " <Item title:\"Thunder_Acquisitions_YCF\" type:Feature Layer Collection owner:cuaycongy_SLUSTL>,\n",
       " <Item title:\"2013\" type:Feature Layer Collection owner:cuaycongy_SLUSTL>,\n",
       " <Item title:\"2016\" type:Feature Layer Collection owner:cuaycongy_SLUSTL>]"
      ]
     },
     "execution_count": 9,
     "metadata": {},
     "output_type": "execute_result"
    }
   ],
   "source": [
    "shared_layers = gis.content.search(\"owner: cuaycongy_SLUSTL\", item_type=\"feature service\", max_items=20)\n",
    "shared_layers"
   ]
  },
  {
   "cell_type": "markdown",
   "metadata": {},
   "source": [
    "7) Create list for layers"
   ]
  },
  {
   "cell_type": "code",
   "execution_count": 11,
   "metadata": {},
   "outputs": [
    {
     "data": {
      "text/plain": [
       "(<Item title:\"2006\" type:Feature Layer Collection owner:cuaycongy_SLUSTL>,\n",
       " <Item title:\"2011\" type:Feature Layer Collection owner:cuaycongy_SLUSTL>,\n",
       " <Item title:\"2007\" type:Feature Layer Collection owner:cuaycongy_SLUSTL>,\n",
       " <Item title:\"2009\" type:Feature Layer Collection owner:cuaycongy_SLUSTL>,\n",
       " <Item title:\"2010\" type:Feature Layer Collection owner:cuaycongy_SLUSTL>,\n",
       " <Item title:\"2018\" type:Feature Layer Collection owner:cuaycongy_SLUSTL>,\n",
       " <Item title:\"2008\" type:Feature Layer Collection owner:cuaycongy_SLUSTL>,\n",
       " <Item title:\"2016\" type:Feature Layer Collection owner:cuaycongy_SLUSTL>,\n",
       " <Item title:\"2014\" type:Feature Layer Collection owner:cuaycongy_SLUSTL>,\n",
       " <Item title:\"2017\" type:Feature Layer Collection owner:cuaycongy_SLUSTL>,\n",
       " <Item title:\"2013\" type:Feature Layer Collection owner:cuaycongy_SLUSTL>,\n",
       " <Item title:\"2015\" type:Feature Layer Collection owner:cuaycongy_SLUSTL>,\n",
       " <Item title:\"2012\" type:Feature Layer Collection owner:cuaycongy_SLUSTL>)"
      ]
     },
     "execution_count": 11,
     "metadata": {},
     "output_type": "execute_result"
    }
   ],
   "source": [
    "all_layers = shared_layers[13], shared_layers[7], shared_layers[5], shared_layers[3], shared_layers[16], shared_layers[9],shared_layers[10], shared_layers[19], shared_layers[14], shared_layers[8], shared_layers[18], shared_layers[6],shared_layers[4]\n",
    "all_layers"
   ]
  },
  {
   "cell_type": "markdown",
   "metadata": {},
   "source": [
    "8) Create map and add layers"
   ]
  },
  {
   "cell_type": "code",
   "execution_count": 29,
   "metadata": {},
   "outputs": [],
   "source": [
    "map2 = gis.map('United States of America')"
   ]
  },
  {
   "cell_type": "code",
   "execution_count": 18,
   "metadata": {},
   "outputs": [
    {
     "name": "stdout",
     "output_type": "stream",
     "text": [
      "<Item title:\"2006\" type:Feature Layer Collection owner:cuaycongy_SLUSTL>\n",
      "<Item title:\"2011\" type:Feature Layer Collection owner:cuaycongy_SLUSTL>\n",
      "<Item title:\"2007\" type:Feature Layer Collection owner:cuaycongy_SLUSTL>\n",
      "<Item title:\"2009\" type:Feature Layer Collection owner:cuaycongy_SLUSTL>\n",
      "<Item title:\"2010\" type:Feature Layer Collection owner:cuaycongy_SLUSTL>\n",
      "<Item title:\"2018\" type:Feature Layer Collection owner:cuaycongy_SLUSTL>\n",
      "<Item title:\"2008\" type:Feature Layer Collection owner:cuaycongy_SLUSTL>\n",
      "<Item title:\"2016\" type:Feature Layer Collection owner:cuaycongy_SLUSTL>\n",
      "<Item title:\"2014\" type:Feature Layer Collection owner:cuaycongy_SLUSTL>\n",
      "<Item title:\"2017\" type:Feature Layer Collection owner:cuaycongy_SLUSTL>\n",
      "<Item title:\"2013\" type:Feature Layer Collection owner:cuaycongy_SLUSTL>\n",
      "<Item title:\"2015\" type:Feature Layer Collection owner:cuaycongy_SLUSTL>\n",
      "<Item title:\"2012\" type:Feature Layer Collection owner:cuaycongy_SLUSTL>\n"
     ]
    },
    {
     "data": {
      "application/vnd.jupyter.widget-view+json": {
       "model_id": "0ec587450a8444dfac2c114c305e2b1e",
       "version_major": 2,
       "version_minor": 0
      },
      "text/plain": [
       "MapView(basemaps=['dark-gray', 'dark-gray-vector', 'gray', 'gray-vector', 'hybrid', 'national-geographic', 'oc…"
      ]
     },
     "metadata": {},
     "output_type": "display_data"
    }
   ],
   "source": [
    "for a in all_layers:\n",
    "    map2.add_layer(a,{\"renderer\":\"ClassedSizeRenderer\", \"field_name\":\"Total\"})\n",
    "    print(a)\n",
    "map2"
   ]
  },
  {
   "cell_type": "code",
   "execution_count": 23,
   "metadata": {},
   "outputs": [],
   "source": [
    "map2.center=[0,0]\n",
    "map2.zoom = 2"
   ]
  },
  {
   "cell_type": "markdown",
   "metadata": {},
   "source": [
    "9) Save webmap to ArcGIS Online Account"
   ]
  },
  {
   "cell_type": "code",
   "execution_count": 24,
   "metadata": {},
   "outputs": [
    {
     "name": "stdout",
     "output_type": "stream",
     "text": [
      "Done\n"
     ]
    }
   ],
   "source": [
    "webmap_properties2 = {'title':'Project 2.1 Fragile States Index',\n",
    "                     'snippet':'Webmap',\n",
    "                     'tags':['FSI']}\n",
    "map2.save(webmap_properties2)\n",
    "print(\"Done\")"
   ]
  },
  {
   "cell_type": "markdown",
   "metadata": {},
   "source": [
    "Final webmap ID = a1fee4e7ff444f10962f81e9e629422a\n",
    "\n",
    "Storymap = https://slustl.maps.arcgis.com/apps/MapSeries/index.html?appid=3fd2884c359e40ea907a694db613507d"
   ]
  },
  {
   "cell_type": "code",
   "execution_count": null,
   "metadata": {},
   "outputs": [],
   "source": []
  }
 ],
 "metadata": {
  "kernelspec": {
   "display_name": "Python 3",
   "language": "python",
   "name": "python3"
  },
  "language_info": {
   "codemirror_mode": {
    "name": "ipython",
    "version": 3
   },
   "file_extension": ".py",
   "mimetype": "text/x-python",
   "name": "python",
   "nbconvert_exporter": "python",
   "pygments_lexer": "ipython3",
   "version": "3.6.5"
  }
 },
 "nbformat": 4,
 "nbformat_minor": 2
}
